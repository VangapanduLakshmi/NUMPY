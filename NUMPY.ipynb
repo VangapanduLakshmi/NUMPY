{
 "cells": [
  {
   "cell_type": "markdown",
   "id": "1493f413",
   "metadata": {},
   "source": [
    "# Installing Numpy and Numpy Array Creation"
   ]
  },
  {
   "cell_type": "code",
   "execution_count": null,
   "id": "a2e8b059",
   "metadata": {},
   "outputs": [],
   "source": [
    "# Install a pip package in the current Jupyter kernel\n",
    "! pip install numpy"
   ]
  },
  {
   "cell_type": "code",
   "execution_count": 2,
   "id": "161671ae",
   "metadata": {},
   "outputs": [],
   "source": [
    "#importing a numpy package\n",
    "import numpy as np"
   ]
  },
  {
   "cell_type": "code",
   "execution_count": 2,
   "id": "6e180a75",
   "metadata": {},
   "outputs": [
    {
     "name": "stdout",
     "output_type": "stream",
     "text": [
      "<class 'list'>\n",
      "List: [1, 2, 3, 4, 5, '6']\n"
     ]
    }
   ],
   "source": [
    "lst=[1,2,3,4,5,\"6\"]\n",
    "print(type(lst))\n",
    "print(\"List:\",lst)"
   ]
  },
  {
   "cell_type": "code",
   "execution_count": 4,
   "id": "b9a49936",
   "metadata": {},
   "outputs": [
    {
     "name": "stdout",
     "output_type": "stream",
     "text": [
      "<class 'numpy.ndarray'>\n",
      "44\n",
      "NUmpy Array: ['1' '2' '3' '4' '5' '6']\n"
     ]
    }
   ],
   "source": [
    "#Creating a simple array in numpy\n",
    "arr=np.array(lst)\n",
    "print(type(arr))\n",
    "print(arr.itemsize)\n",
    "print(\"NUmpy Array:\",arr)  #ndarray is nothing but n dimentional array."
   ]
  },
  {
   "cell_type": "code",
   "execution_count": 5,
   "id": "05c3ae62",
   "metadata": {},
   "outputs": [
    {
     "name": "stdout",
     "output_type": "stream",
     "text": [
      "<class 'numpy.ndarray'>\n",
      "[1 2 3 4 5]\n"
     ]
    }
   ],
   "source": [
    "arr1=np.array((1,2,3,4,5))\n",
    "print(type(arr1))\n",
    "print(arr1)"
   ]
  },
  {
   "cell_type": "code",
   "execution_count": 6,
   "id": "e583fbbf",
   "metadata": {},
   "outputs": [
    {
     "name": "stdout",
     "output_type": "stream",
     "text": [
      "<class 'numpy.ndarray'>\n",
      "{1, 2, 3, 4, 5}\n"
     ]
    }
   ],
   "source": [
    "arr2=np.array({1,2,3,4,5})\n",
    "print(type(arr2))\n",
    "print(arr2)"
   ]
  },
  {
   "cell_type": "code",
   "execution_count": 6,
   "id": "031073b6",
   "metadata": {},
   "outputs": [
    {
     "name": "stdout",
     "output_type": "stream",
     "text": [
      "[1 2 3 4 5 6]\n",
      "<class 'numpy.ndarray'>\n"
     ]
    }
   ],
   "source": [
    "#creating ndarray  using arange function\n",
    "rr=np.arange(10)\n",
    "print(arr)\n",
    "print(type(arr))"
   ]
  },
  {
   "cell_type": "markdown",
   "id": "f410c154",
   "metadata": {},
   "source": [
    "# Why Numpy?"
   ]
  },
  {
   "cell_type": "markdown",
   "id": "3bcfd315",
   "metadata": {},
   "source": [
    "Most powerful numerical processing library in python. Array Oriented computing.\n",
    "\n",
    "Provides extension package to python for multi dimensional array.\n",
    "\n",
    "Very efficient.\n",
    "\n",
    "Scientific computation."
   ]
  },
  {
   "cell_type": "markdown",
   "id": "edae852a",
   "metadata": {},
   "source": [
    "# why numpy ,when we already have lists?"
   ]
  },
  {
   "cell_type": "code",
   "execution_count": 12,
   "id": "bdfdbec3",
   "metadata": {},
   "outputs": [
    {
     "name": "stdout",
     "output_type": "stream",
     "text": [
      "CPU times: total: 203 ms\n",
      "Wall time: 242 ms\n"
     ]
    }
   ],
   "source": [
    "%%time\n",
    "lst=list(range(1000000))\n",
    "for i in  range(1000000):\n",
    "    lst[i]*=lst[i]"
   ]
  },
  {
   "cell_type": "code",
   "execution_count": 13,
   "id": "581cbb66",
   "metadata": {},
   "outputs": [
    {
     "name": "stdout",
     "output_type": "stream",
     "text": [
      "CPU times: total: 0 ns\n",
      "Wall time: 98.3 ms\n"
     ]
    }
   ],
   "source": [
    "%%time\n",
    "arr=np.arange(1000000)\n",
    "arr=arr*arr"
   ]
  },
  {
   "cell_type": "markdown",
   "id": "ea7b55a0",
   "metadata": {},
   "source": [
    "# Attributes/Properties"
   ]
  },
  {
   "cell_type": "code",
   "execution_count": 7,
   "id": "9a1ac3b2",
   "metadata": {},
   "outputs": [
    {
     "name": "stdout",
     "output_type": "stream",
     "text": [
      "[1 2 3 4 5 6]\n",
      "Shape: (6,)\n",
      "Data type: int32\n",
      "Item size 4\n",
      "Dimentionalit 1\n",
      "size: 6\n",
      "total bytes 24\n"
     ]
    }
   ],
   "source": [
    "import numpy as np\n",
    "arr=np.array([1,2,3,4,5,6])\n",
    "print(arr)\n",
    "print(\"Shape:\",arr.shape) #check the shape of the array. in the form of tuple\n",
    "print(\"Data type:\",arr.dtype)# data-type of array's elements.\n",
    "print(\"Item size\",arr.itemsize)#it returns the length of one arry element in bytes.\n",
    "print(\"Dimentionalit\",arr.ndim) #no.of dimentions present in the array.\n",
    "print(\"size:\",arr.size) # no.of elements present in the array. is aslo equal to np.prod(arr.shape)\n",
    "print(\"total bytes\",arr.nbytes)# returs the total bytes consumed by the elements of the array"
   ]
  },
  {
   "cell_type": "code",
   "execution_count": 4,
   "id": "6ac3b35f",
   "metadata": {},
   "outputs": [
    {
     "name": "stdout",
     "output_type": "stream",
     "text": [
      "  C_CONTIGUOUS : True\n",
      "  F_CONTIGUOUS : True\n",
      "  OWNDATA : True\n",
      "  WRITEABLE : True\n",
      "  ALIGNED : True\n",
      "  WRITEBACKIFCOPY : False\n",
      "\n"
     ]
    }
   ],
   "source": [
    "ar=np.array([1,2,3,4,5])\n",
    "print(ar.flags)"
   ]
  },
  {
   "cell_type": "code",
   "execution_count": 10,
   "id": "653fbcc9",
   "metadata": {},
   "outputs": [
    {
     "name": "stdout",
     "output_type": "stream",
     "text": [
      "Array: \n",
      " [[1 2 3 4]\n",
      " [5 6 7 8]]\n",
      "Shape: (2, 4)\n",
      "Data type: int32\n",
      "Item size 4\n",
      "Dimentionalit 2\n",
      "size : 8\n",
      "<class 'numpy.ndarray'>\n"
     ]
    }
   ],
   "source": [
    "arr=np.array([[1,2,3,4],[5,6,7,8]]) #it will form the 2 dimentional array.\n",
    "print(\"Array: \\n\",arr)\n",
    "print(\"Shape:\",arr.shape) #check the shape of the array. in the form of tuple\n",
    "print(\"Data type:\",arr.dtype)\n",
    "print(\"Item size\",arr.itemsize)\n",
    "print(\"Dimentionalit\",arr.ndim)\n",
    "print(\"size :\",arr.size)\n",
    "print(type(arr))"
   ]
  },
  {
   "cell_type": "code",
   "execution_count": 29,
   "id": "875faf50",
   "metadata": {},
   "outputs": [
    {
     "name": "stdout",
     "output_type": "stream",
     "text": [
      "[1.  2.7 3.  4.  5. ]\n",
      "float64\n",
      "8\n"
     ]
    }
   ],
   "source": [
    "arr=np.array([1,2.7,3,4.0,5]) # to convert the entaire elements into floate value\n",
    "print(arr)\n",
    "print(arr.dtype)\n",
    "print(arr.itemsize)"
   ]
  },
  {
   "cell_type": "code",
   "execution_count": 30,
   "id": "be234189",
   "metadata": {},
   "outputs": [
    {
     "name": "stdout",
     "output_type": "stream",
     "text": [
      "Array: \n",
      " [1 2 3 4 5 6 7 8 9]\n",
      "Shape: (9,)\n",
      "Data type: int32\n",
      "Item size 4\n",
      "Dimentionalit 1\n"
     ]
    }
   ],
   "source": [
    "arr=np.arange(1,10)\n",
    "print(\"Array: \\n\",arr)\n",
    "print(\"Shape:\",arr.shape)\n",
    "print(\"Data type:\",arr.dtype)\n",
    "print(\"Item size\",arr.itemsize)\n",
    "print(\"Dimentionalit\",arr.ndim)"
   ]
  },
  {
   "cell_type": "code",
   "execution_count": 31,
   "id": "b7cc38ef",
   "metadata": {},
   "outputs": [
    {
     "name": "stdout",
     "output_type": "stream",
     "text": [
      "Array: \n",
      " [1 3 5 7 9]\n",
      "Shape: (5,)\n",
      "Data type: int32\n",
      "Item size 4\n",
      "Dimentionalit 1\n"
     ]
    }
   ],
   "source": [
    "arr=np.arange(1,10,2)\n",
    "print(\"Array: \\n\",arr)\n",
    "print(\"Shape:\",arr.shape)\n",
    "print(\"Data type:\",arr.dtype)\n",
    "print(\"Item size\",arr.itemsize)\n",
    "print(\"Dimentionalit\",arr.ndim)"
   ]
  },
  {
   "cell_type": "markdown",
   "id": "72209fdb",
   "metadata": {},
   "source": [
    "**Another way to creating an numpy array using functions**"
   ]
  },
  {
   "cell_type": "code",
   "execution_count": 7,
   "id": "52688895",
   "metadata": {},
   "outputs": [
    {
     "name": "stdout",
     "output_type": "stream",
     "text": [
      "Array: \n",
      " [1. 1. 1.]\n",
      "Shape: (3,)\n",
      "Data type: float64\n",
      "Item size 8\n",
      "Dimentionalit 1\n"
     ]
    }
   ],
   "source": [
    "arr=np.ones((3))\n",
    "print(\"Array: \\n\",arr)\n",
    "print(\"Shape:\",arr.shape)\n",
    "print(\"Data type:\",arr.dtype)\n",
    "print(\"Item size\",arr.itemsize)\n",
    "print(\"Dimentionalit\",arr.ndim)"
   ]
  },
  {
   "cell_type": "code",
   "execution_count": 17,
   "id": "e090f698",
   "metadata": {},
   "outputs": [
    {
     "name": "stdout",
     "output_type": "stream",
     "text": [
      "Array: \n",
      " [[1 1 1]\n",
      " [1 1 1]\n",
      " [1 1 1]]\n",
      "Shape: (3, 3)\n",
      "Data type: int32\n",
      "Item size 4\n",
      "Dimentionalit 2\n"
     ]
    }
   ],
   "source": [
    "arr=np.ones((3,3), dtype='i')\n",
    "print(\"Array: \\n\",arr)\n",
    "print(\"Shape:\",arr.shape)\n",
    "print(\"Data type:\",arr.dtype)\n",
    "print(\"Item size\",arr.itemsize)\n",
    "print(\"Dimentionalit\",arr.ndim)"
   ]
  },
  {
   "cell_type": "code",
   "execution_count": 11,
   "id": "6b56d817",
   "metadata": {},
   "outputs": [
    {
     "name": "stdout",
     "output_type": "stream",
     "text": [
      "Array: \n",
      " [[0. 0. 0.]\n",
      " [0. 0. 0.]]\n",
      "Shape: (2, 3)\n",
      "Data type: float64\n",
      "Item size 8\n",
      "Dimentionalit 2\n"
     ]
    }
   ],
   "source": [
    "arr=np.zeros((2,3))\n",
    "print(\"Array: \\n\",arr)\n",
    "print(\"Shape:\",arr.shape)\n",
    "print(\"Data type:\",arr.dtype)\n",
    "print(\"Item size\",arr.itemsize)\n",
    "print(\"Dimentionalit\",arr.ndim)"
   ]
  },
  {
   "cell_type": "code",
   "execution_count": 10,
   "id": "bcad10ca",
   "metadata": {},
   "outputs": [
    {
     "name": "stdout",
     "output_type": "stream",
     "text": [
      "Array: \n",
      " [0. 0. 0.]\n",
      "Shape: (3,)\n",
      "Data type: float64\n",
      "Item size 8\n",
      "Dimentionalit 1\n"
     ]
    }
   ],
   "source": [
    "arr=np.zeros((3))\n",
    "print(\"Array: \\n\",arr)\n",
    "print(\"Shape:\",arr.shape)\n",
    "print(\"Data type:\",arr.dtype)\n",
    "print(\"Item size\",arr.itemsize)\n",
    "print(\"Dimentionalit\",arr.ndim)"
   ]
  },
  {
   "cell_type": "code",
   "execution_count": 27,
   "id": "eb91d769",
   "metadata": {},
   "outputs": [
    {
     "name": "stdout",
     "output_type": "stream",
     "text": [
      "Array: \n",
      " [[1. 0. 0.]\n",
      " [0. 1. 0.]\n",
      " [0. 0. 1.]]\n",
      "Shape: (3, 3)\n",
      "Data type: float64\n",
      "Item size 8\n",
      "Dimentionalit 2\n"
     ]
    }
   ],
   "source": [
    "arr=np.eye((3)) # identity matrincs in mathmatics nothing but suqre matrix.\n",
    "print(\"Array: \\n\",arr)\n",
    "print(\"Shape:\",arr.shape)\n",
    "print(\"Data type:\",arr.dtype)\n",
    "print(\"Item size\",arr.itemsize)\n",
    "print(\"Dimentionalit\",arr.ndim)"
   ]
  },
  {
   "cell_type": "code",
   "execution_count": 22,
   "id": "e40f9214",
   "metadata": {},
   "outputs": [
    {
     "name": "stdout",
     "output_type": "stream",
     "text": [
      "Array: \n",
      " [[1. 0. 0.]\n",
      " [0. 1. 0.]\n",
      " [0. 0. 1.]]\n",
      "Shape: (3, 3)\n",
      "Data type: float64\n",
      "Item size 8\n",
      "Dimentionalit 2\n"
     ]
    }
   ],
   "source": [
    "arr=np.eye(3) # identity matrincs in mathmatics nothing but suqre matrix.\n",
    "print(\"Array: \\n\",arr)\n",
    "print(\"Shape:\",arr.shape)\n",
    "print(\"Data type:\",arr.dtype)\n",
    "print(\"Item size\",arr.itemsize)\n",
    "print(\"Dimentionalit\",arr.ndim)"
   ]
  },
  {
   "cell_type": "code",
   "execution_count": 28,
   "id": "c313ecfd",
   "metadata": {},
   "outputs": [
    {
     "ename": "TypeError",
     "evalue": "'tuple' object cannot be interpreted as an integer",
     "output_type": "error",
     "traceback": [
      "\u001b[1;31m---------------------------------------------------------------------------\u001b[0m",
      "\u001b[1;31mTypeError\u001b[0m                                 Traceback (most recent call last)",
      "Cell \u001b[1;32mIn[28], line 1\u001b[0m\n\u001b[1;32m----> 1\u001b[0m arr\u001b[38;5;241m=\u001b[39m\u001b[43mnp\u001b[49m\u001b[38;5;241;43m.\u001b[39;49m\u001b[43meye\u001b[49m\u001b[43m(\u001b[49m\u001b[43m(\u001b[49m\u001b[38;5;241;43m3\u001b[39;49m\u001b[43m,\u001b[49m\u001b[38;5;241;43m3\u001b[39;49m\u001b[43m)\u001b[49m\u001b[43m)\u001b[49m \u001b[38;5;66;03m# identity matrincs in mathmatics nothing but suqre matrix.\u001b[39;00m\n\u001b[0;32m      2\u001b[0m \u001b[38;5;28mprint\u001b[39m(\u001b[38;5;124m\"\u001b[39m\u001b[38;5;124mArray: \u001b[39m\u001b[38;5;130;01m\\n\u001b[39;00m\u001b[38;5;124m\"\u001b[39m,arr)\n\u001b[0;32m      3\u001b[0m \u001b[38;5;28mprint\u001b[39m(\u001b[38;5;124m\"\u001b[39m\u001b[38;5;124mShape:\u001b[39m\u001b[38;5;124m\"\u001b[39m,arr\u001b[38;5;241m.\u001b[39mshape)\n",
      "File \u001b[1;32m~\\anaconda3\\lib\\site-packages\\numpy\\lib\\twodim_base.py:211\u001b[0m, in \u001b[0;36meye\u001b[1;34m(N, M, k, dtype, order, like)\u001b[0m\n\u001b[0;32m    209\u001b[0m \u001b[38;5;28;01mif\u001b[39;00m M \u001b[38;5;129;01mis\u001b[39;00m \u001b[38;5;28;01mNone\u001b[39;00m:\n\u001b[0;32m    210\u001b[0m     M \u001b[38;5;241m=\u001b[39m N\n\u001b[1;32m--> 211\u001b[0m m \u001b[38;5;241m=\u001b[39m \u001b[43mzeros\u001b[49m\u001b[43m(\u001b[49m\u001b[43m(\u001b[49m\u001b[43mN\u001b[49m\u001b[43m,\u001b[49m\u001b[43m \u001b[49m\u001b[43mM\u001b[49m\u001b[43m)\u001b[49m\u001b[43m,\u001b[49m\u001b[43m \u001b[49m\u001b[43mdtype\u001b[49m\u001b[38;5;241;43m=\u001b[39;49m\u001b[43mdtype\u001b[49m\u001b[43m,\u001b[49m\u001b[43m \u001b[49m\u001b[43morder\u001b[49m\u001b[38;5;241;43m=\u001b[39;49m\u001b[43morder\u001b[49m\u001b[43m)\u001b[49m\n\u001b[0;32m    212\u001b[0m \u001b[38;5;28;01mif\u001b[39;00m k \u001b[38;5;241m>\u001b[39m\u001b[38;5;241m=\u001b[39m M:\n\u001b[0;32m    213\u001b[0m     \u001b[38;5;28;01mreturn\u001b[39;00m m\n",
      "\u001b[1;31mTypeError\u001b[0m: 'tuple' object cannot be interpreted as an integer"
     ]
    }
   ],
   "source": [
    "arr=np.eye((3,3)) # identity matrincs in mathmatics nothing but suqre matrix.\n",
    "print(\"Array: \\n\",arr)\n",
    "print(\"Shape:\",arr.shape)\n",
    "print(\"Data type:\",arr.dtype)\n",
    "print(\"Item size\",arr.itemsize)\n",
    "print(\"Dimentionalit\",arr.ndim)"
   ]
  },
  {
   "cell_type": "code",
   "execution_count": 29,
   "id": "fca5ef27",
   "metadata": {},
   "outputs": [
    {
     "name": "stdout",
     "output_type": "stream",
     "text": [
      "Array: \n",
      " [[1. 0.]\n",
      " [0. 1.]\n",
      " [0. 0.]]\n",
      "Shape: (3, 2)\n",
      "Data type: float64\n",
      "Item size 8\n",
      "Dimentionalit 2\n"
     ]
    }
   ],
   "source": [
    "arr=np.eye(3,2) # identity matrincs in mathmatics nothing but suqre matrix.\n",
    "print(\"Array: \\n\",arr)\n",
    "print(\"Shape:\",arr.shape)\n",
    "print(\"Data type:\",arr.dtype)\n",
    "print(\"Item size\",arr.itemsize)\n",
    "print(\"Dimentionalit\",arr.ndim)"
   ]
  },
  {
   "cell_type": "markdown",
   "id": "85bca730",
   "metadata": {},
   "source": [
    "**type cast**"
   ]
  },
  {
   "cell_type": "code",
   "execution_count": 3,
   "id": "e5d18e5b",
   "metadata": {},
   "outputs": [
    {
     "name": "stdout",
     "output_type": "stream",
     "text": [
      "[1.  2.  3.4 4. ]\n",
      "[1 2 3 4]\n"
     ]
    }
   ],
   "source": [
    "arr=np.array([1.,2.,3.4,4.])\n",
    "print(arr)\n",
    "print(arr.astype(int))"
   ]
  },
  {
   "cell_type": "code",
   "execution_count": 6,
   "id": "82d4ceb1",
   "metadata": {},
   "outputs": [
    {
     "name": "stdout",
     "output_type": "stream",
     "text": [
      "10\n"
     ]
    }
   ],
   "source": [
    "arr=np.array([[1,2,3,4,5],[6,7,8,9,10]])\n",
    "print(arr.size)"
   ]
  },
  {
   "cell_type": "code",
   "execution_count": 35,
   "id": "1d66e322",
   "metadata": {},
   "outputs": [
    {
     "name": "stdout",
     "output_type": "stream",
     "text": [
      "Array: \n",
      " [[1. 0.]\n",
      " [0. 1.]\n",
      " [0. 0.]]\n",
      "Shape: (3, 2)\n",
      "Data type: float64\n",
      "Item size 8\n",
      "Dimentionalit 2\n"
     ]
    }
   ],
   "source": [
    "arr=np.eye(3,2) # 3 rows and 2 colums\n",
    "print(\"Array: \\n\",arr)\n",
    "print(\"Shape:\",arr.shape)\n",
    "print(\"Data type:\",arr.dtype)\n",
    "print(\"Item size\",arr.itemsize)\n",
    "print(\"Dimentionalit\",arr.ndim)"
   ]
  },
  {
   "cell_type": "code",
   "execution_count": 42,
   "id": "15785ee1",
   "metadata": {},
   "outputs": [
    {
     "name": "stdout",
     "output_type": "stream",
     "text": [
      "Array: \n",
      " [0 1 2 3 4 5 6 7 8 9]\n",
      "Shape: (10,)\n",
      "Data type: int32\n",
      "Item size 4\n",
      "Dimentionalit 1\n"
     ]
    }
   ],
   "source": [
    "arr=np.arange((10))\n",
    "print(\"Array: \\n\",arr)\n",
    "print(\"Shape:\",arr.shape)\n",
    "print(\"Data type:\",arr.dtype)\n",
    "print(\"Item size\",arr.itemsize)\n",
    "print(\"Dimentionalit\",arr.ndim)"
   ]
  },
  {
   "cell_type": "code",
   "execution_count": 43,
   "id": "c2ee662f",
   "metadata": {},
   "outputs": [
    {
     "name": "stdout",
     "output_type": "stream",
     "text": [
      "Array: \n",
      " [0 1 2 3 4 5 6 7 8 9]\n",
      "Shape: (10,)\n",
      "Data type: int32\n",
      "Item size 4\n",
      "Dimentionalit 1\n"
     ]
    }
   ],
   "source": [
    "arr=np.arange(10)\n",
    "print(\"Array: \\n\",arr)\n",
    "print(\"Shape:\",arr.shape)\n",
    "print(\"Data type:\",arr.dtype)\n",
    "print(\"Item size\",arr.itemsize)\n",
    "print(\"Dimentionalit\",arr.ndim)"
   ]
  },
  {
   "cell_type": "code",
   "execution_count": 44,
   "id": "ba2b83a8",
   "metadata": {},
   "outputs": [
    {
     "name": "stdout",
     "output_type": "stream",
     "text": [
      "Array: \n",
      " [10 12 14 16 18]\n",
      "Shape: (5,)\n",
      "Data type: int32\n",
      "Item size 4\n",
      "Dimentionalit 1\n"
     ]
    }
   ],
   "source": [
    "arr=np.arange(10,20,2)\n",
    "print(\"Array: \\n\",arr)\n",
    "print(\"Shape:\",arr.shape)\n",
    "print(\"Data type:\",arr.dtype)\n",
    "print(\"Item size\",arr.itemsize)\n",
    "print(\"Dimentionalit\",arr.ndim)"
   ]
  },
  {
   "cell_type": "code",
   "execution_count": 45,
   "id": "bf3f714e",
   "metadata": {},
   "outputs": [
    {
     "ename": "TypeError",
     "evalue": "arange: scalar arguments expected instead of a tuple.",
     "output_type": "error",
     "traceback": [
      "\u001b[1;31m---------------------------------------------------------------------------\u001b[0m",
      "\u001b[1;31mTypeError\u001b[0m                                 Traceback (most recent call last)",
      "Cell \u001b[1;32mIn[45], line 1\u001b[0m\n\u001b[1;32m----> 1\u001b[0m arr\u001b[38;5;241m=\u001b[39m\u001b[43mnp\u001b[49m\u001b[38;5;241;43m.\u001b[39;49m\u001b[43marange\u001b[49m\u001b[43m(\u001b[49m\u001b[43m(\u001b[49m\u001b[38;5;241;43m10\u001b[39;49m\u001b[43m,\u001b[49m\u001b[38;5;241;43m20\u001b[39;49m\u001b[43m,\u001b[49m\u001b[38;5;241;43m2\u001b[39;49m\u001b[43m)\u001b[49m\u001b[43m)\u001b[49m\n\u001b[0;32m      2\u001b[0m \u001b[38;5;28mprint\u001b[39m(\u001b[38;5;124m\"\u001b[39m\u001b[38;5;124mArray: \u001b[39m\u001b[38;5;130;01m\\n\u001b[39;00m\u001b[38;5;124m\"\u001b[39m,arr)\n\u001b[0;32m      3\u001b[0m \u001b[38;5;28mprint\u001b[39m(\u001b[38;5;124m\"\u001b[39m\u001b[38;5;124mShape:\u001b[39m\u001b[38;5;124m\"\u001b[39m,arr\u001b[38;5;241m.\u001b[39mshape)\n",
      "\u001b[1;31mTypeError\u001b[0m: arange: scalar arguments expected instead of a tuple."
     ]
    }
   ],
   "source": [
    "arr=np.arange((10,20,2))\n",
    "print(\"Array: \\n\",arr)\n",
    "print(\"Shape:\",arr.shape)\n",
    "print(\"Data type:\",arr.dtype)\n",
    "print(\"Item size\",arr.itemsize)\n",
    "print(\"Dimentionalit\",arr.ndim)"
   ]
  },
  {
   "cell_type": "markdown",
   "id": "30c451a6",
   "metadata": {},
   "source": [
    "# Numpy Random Numbers"
   ]
  },
  {
   "cell_type": "code",
   "execution_count": null,
   "id": "1630d021",
   "metadata": {},
   "outputs": [],
   "source": []
  },
  {
   "cell_type": "code",
   "execution_count": 2,
   "id": "7c45c889",
   "metadata": {},
   "outputs": [
    {
     "name": "stdout",
     "output_type": "stream",
     "text": [
      "Numpy array: [0.45836141 0.29396344 0.22858982 0.9386465  0.54629978]\n"
     ]
    }
   ],
   "source": [
    "import numpy as np\n",
    "arr=np.random.rand(5) #5 is represents the how money numbers you want to generate\n",
    "print(\"Numpy array:\",arr)"
   ]
  },
  {
   "cell_type": "code",
   "execution_count": 47,
   "id": "db126a88",
   "metadata": {},
   "outputs": [
    {
     "name": "stdout",
     "output_type": "stream",
     "text": [
      "[[0.69914038 0.09385932]\n",
      " [0.64398744 0.55588757]\n",
      " [0.49826914 0.12972013]\n",
      " [0.85686736 0.35801575]\n",
      " [0.7054695  0.61221656]\n",
      " [0.38410493 0.2428714 ]]\n"
     ]
    }
   ],
   "source": [
    "arr=np.random.rand(6,2) #10 rows and 2 colums\n",
    "print(arr)"
   ]
  },
  {
   "cell_type": "code",
   "execution_count": 4,
   "id": "bf1d3f71",
   "metadata": {},
   "outputs": [
    {
     "name": "stdout",
     "output_type": "stream",
     "text": [
      "[ 1.08156912 -1.20173079  0.30189742 -1.09575759 -1.16836738]\n"
     ]
    }
   ],
   "source": [
    "arr=np.random.randn(5)\n",
    "print(arr)"
   ]
  },
  {
   "cell_type": "code",
   "execution_count": 49,
   "id": "c2b4f4be",
   "metadata": {},
   "outputs": [
    {
     "name": "stdout",
     "output_type": "stream",
     "text": [
      "<class 'numpy.ndarray'>\n",
      "[[-1.62345065 -1.45941048  1.00257557 -1.46231023]\n",
      " [ 0.58557875 -0.39459757 -0.00616191 -0.18303994]\n",
      " [-0.17618729 -0.17309435 -0.21275169 -1.46739388]\n",
      " [ 1.01224834 -1.88262529 -0.87941202 -2.07736661]\n",
      " [-1.13446026  0.90264364  0.15337284 -0.35932379]]\n"
     ]
    }
   ],
   "source": [
    "arr=np.random.randn(5,4) #5 rows and 4 colums  \n",
    "print(type(arr))\n",
    "print(arr)"
   ]
  },
  {
   "cell_type": "code",
   "execution_count": 48,
   "id": "8d49184e",
   "metadata": {},
   "outputs": [
    {
     "name": "stdout",
     "output_type": "stream",
     "text": [
      "<class 'int'>\n",
      "5\n"
     ]
    }
   ],
   "source": [
    "#generate a random integer b/w 0 to 9\n",
    "value = np.random.randint(10)\n",
    "print(type(value))\n",
    "print(value)"
   ]
  },
  {
   "cell_type": "code",
   "execution_count": 11,
   "id": "1cd88cf8",
   "metadata": {},
   "outputs": [
    {
     "name": "stdout",
     "output_type": "stream",
     "text": [
      "20\n"
     ]
    }
   ],
   "source": [
    "value = np.random.randint(10,31)\n",
    "print(value)"
   ]
  },
  {
   "cell_type": "code",
   "execution_count": 12,
   "id": "6f744b70",
   "metadata": {},
   "outputs": [],
   "source": [
    "#write a programm to creat a functionlity to similate of a dice roll ?"
   ]
  },
  {
   "cell_type": "code",
   "execution_count": 15,
   "id": "a427b661",
   "metadata": {},
   "outputs": [
    {
     "name": "stdout",
     "output_type": "stream",
     "text": [
      "value: 2\n"
     ]
    }
   ],
   "source": [
    "import numpy as np\n",
    "def fun():\n",
    "    dice_roll= np.random.randint(1,7)\n",
    "    print(\"value:\",dice_roll)\n",
    "fun()"
   ]
  },
  {
   "cell_type": "code",
   "execution_count": null,
   "id": "239da82f",
   "metadata": {},
   "outputs": [],
   "source": [
    "#write a programm to generate an otp(4 digit)"
   ]
  },
  {
   "cell_type": "code",
   "execution_count": 20,
   "id": "39ba1040",
   "metadata": {},
   "outputs": [],
   "source": [
    "def otp():\n",
    "    return np.random.randint(1000,10000)"
   ]
  },
  {
   "cell_type": "code",
   "execution_count": 21,
   "id": "9956fdd8",
   "metadata": {},
   "outputs": [
    {
     "data": {
      "text/plain": [
       "2295"
      ]
     },
     "execution_count": 21,
     "metadata": {},
     "output_type": "execute_result"
    }
   ],
   "source": [
    "otp()"
   ]
  },
  {
   "cell_type": "code",
   "execution_count": 25,
   "id": "5bcde748",
   "metadata": {},
   "outputs": [
    {
     "name": "stdout",
     "output_type": "stream",
     "text": [
      "[[3 6 9 6]\n",
      " [5 0 6 8]\n",
      " [2 2 3 9]\n",
      " [9 8 5 5]\n",
      " [4 5 7 4]]\n"
     ]
    }
   ],
   "source": [
    "#randomly genarete a 5*4 array containing values\n",
    "arr=np.random.randint(10, size=(5,4))\n",
    "print(arr)"
   ]
  },
  {
   "cell_type": "code",
   "execution_count": 27,
   "id": "bfb9555e",
   "metadata": {},
   "outputs": [
    {
     "name": "stdout",
     "output_type": "stream",
     "text": [
      "[[38 18 16 12]\n",
      " [26 35 37 35]\n",
      " [22 15 26 11]\n",
      " [11 19 24 28]\n",
      " [37 39 29 20]]\n"
     ]
    }
   ],
   "source": [
    "arr=np.random.randint(10,40, size=(5,4))\n",
    "print(arr)"
   ]
  },
  {
   "cell_type": "code",
   "execution_count": 30,
   "id": "9c003234",
   "metadata": {},
   "outputs": [
    {
     "name": "stdout",
     "output_type": "stream",
     "text": [
      "1.8943210216751663\n"
     ]
    }
   ],
   "source": [
    "#generate random decimal value b/w 0 to 10\n",
    "arr= np.random.uniform(10)\n",
    "print(arr)"
   ]
  },
  {
   "cell_type": "code",
   "execution_count": 33,
   "id": "3f6a48d8",
   "metadata": {},
   "outputs": [
    {
     "name": "stdout",
     "output_type": "stream",
     "text": [
      "[[9.86056048 8.7397809  5.75773791 1.33524321]\n",
      " [8.31302801 2.49616851 2.19463278 5.95443067]\n",
      " [6.62771659 3.90879502 6.60890953 4.50293908]\n",
      " [1.44937815 8.70664777 8.68706314 4.33279486]\n",
      " [7.11867449 4.74727365 7.91490295 9.69619112]]\n"
     ]
    }
   ],
   "source": [
    "arr=np.random.uniform(10, size=(5,4)) #b/t 0 to 10\n",
    "print(arr)"
   ]
  },
  {
   "cell_type": "code",
   "execution_count": 34,
   "id": "6c66eec6",
   "metadata": {},
   "outputs": [
    {
     "name": "stdout",
     "output_type": "stream",
     "text": [
      "[[24.0465837  21.68061645 14.49624022 18.45942757]\n",
      " [21.29196336 26.4141793  34.06257224 12.74262845]\n",
      " [17.34293706 35.14864814 31.04422487 26.17854482]\n",
      " [33.38092093 30.31083838 15.99761631 37.34042386]\n",
      " [19.06610415 33.05534178 37.01865727 11.92431204]]\n"
     ]
    }
   ],
   "source": [
    "arr=np.random.uniform(10,40, size=(5,4))  # 10 is minimum and 40 is maximum.\n",
    "print(arr)"
   ]
  },
  {
   "cell_type": "markdown",
   "id": "4b9083e1",
   "metadata": {},
   "source": [
    "# Numpy array Indexing, slicing and updating"
   ]
  },
  {
   "cell_type": "code",
   "execution_count": 52,
   "id": "2ee0e4ed",
   "metadata": {},
   "outputs": [
    {
     "name": "stdout",
     "output_type": "stream",
     "text": [
      "[ 9 42 38  0 12]\n",
      "(5,)\n"
     ]
    }
   ],
   "source": [
    "#randomly generating 1 dimentional array\n",
    "arr=np.random.randint(100, size=(5,))\n",
    "print(arr)\n",
    "print(arr.shape)"
   ]
  },
  {
   "cell_type": "code",
   "execution_count": 53,
   "id": "8e4f7299",
   "metadata": {},
   "outputs": [
    {
     "ename": "IndexError",
     "evalue": "index 5 is out of bounds for axis 0 with size 5",
     "output_type": "error",
     "traceback": [
      "\u001b[1;31m---------------------------------------------------------------------------\u001b[0m",
      "\u001b[1;31mIndexError\u001b[0m                                Traceback (most recent call last)",
      "Cell \u001b[1;32mIn[53], line 1\u001b[0m\n\u001b[1;32m----> 1\u001b[0m \u001b[38;5;28mprint\u001b[39m(\u001b[43marr\u001b[49m\u001b[43m[\u001b[49m\u001b[38;5;241;43m5\u001b[39;49m\u001b[43m]\u001b[49m)\n",
      "\u001b[1;31mIndexError\u001b[0m: index 5 is out of bounds for axis 0 with size 5"
     ]
    }
   ],
   "source": [
    "print(arr[5])"
   ]
  },
  {
   "cell_type": "code",
   "execution_count": 39,
   "id": "86c3cd95",
   "metadata": {},
   "outputs": [
    {
     "name": "stdout",
     "output_type": "stream",
     "text": [
      "62\n"
     ]
    }
   ],
   "source": [
    "print(arr[2])"
   ]
  },
  {
   "cell_type": "code",
   "execution_count": 41,
   "id": "df467303",
   "metadata": {},
   "outputs": [
    {
     "name": "stdout",
     "output_type": "stream",
     "text": [
      "[21 40 62  2 21]\n"
     ]
    }
   ],
   "source": [
    "print(arr[::-1])"
   ]
  },
  {
   "cell_type": "code",
   "execution_count": 19,
   "id": "03c15d0a",
   "metadata": {},
   "outputs": [
    {
     "name": "stdout",
     "output_type": "stream",
     "text": [
      "[[23 85 86 17]\n",
      " [89 76 91  3]\n",
      " [28 37 47 69]\n",
      " [ 6 81 80 39]\n",
      " [20 49 69 12]]\n"
     ]
    }
   ],
   "source": [
    "#randomly generating 2 dimentional array\n",
    "arr=np.random.randint(100, size=(5,4))\n",
    "print(arr)"
   ]
  },
  {
   "cell_type": "code",
   "execution_count": 43,
   "id": "0af8c94e",
   "metadata": {},
   "outputs": [
    {
     "name": "stdout",
     "output_type": "stream",
     "text": [
      "[35 69 49 80]\n"
     ]
    }
   ],
   "source": [
    "print(arr[2])"
   ]
  },
  {
   "cell_type": "code",
   "execution_count": 44,
   "id": "18b67a39",
   "metadata": {},
   "outputs": [
    {
     "name": "stdout",
     "output_type": "stream",
     "text": [
      "4\n"
     ]
    }
   ],
   "source": [
    "print(arr[1][2])"
   ]
  },
  {
   "cell_type": "code",
   "execution_count": 45,
   "id": "d25a7516",
   "metadata": {},
   "outputs": [
    {
     "name": "stdout",
     "output_type": "stream",
     "text": [
      "4\n"
     ]
    }
   ],
   "source": [
    "print(arr[1,2]) # [row_inde, col_inde]"
   ]
  },
  {
   "cell_type": "code",
   "execution_count": 47,
   "id": "e8c01f53",
   "metadata": {},
   "outputs": [
    {
     "name": "stdout",
     "output_type": "stream",
     "text": [
      "[ 4 72  5]\n"
     ]
    }
   ],
   "source": [
    "print(arr[[1,3,4],[2,0,3]])"
   ]
  },
  {
   "cell_type": "code",
   "execution_count": 50,
   "id": "88c66103",
   "metadata": {},
   "outputs": [
    {
     "name": "stdout",
     "output_type": "stream",
     "text": [
      "4 72 5\n"
     ]
    }
   ],
   "source": [
    "print(arr[1][2],arr[3][0],arr[4][3])"
   ]
  },
  {
   "cell_type": "code",
   "execution_count": 54,
   "id": "c76e0b2f",
   "metadata": {},
   "outputs": [
    {
     "name": "stdout",
     "output_type": "stream",
     "text": [
      "[97 27 37 12 57  4 76 15 94 98]\n"
     ]
    }
   ],
   "source": [
    "arr=np.random.randint(100, size=(10,))\n",
    "print(arr)"
   ]
  },
  {
   "cell_type": "code",
   "execution_count": 55,
   "id": "6c789ff7",
   "metadata": {},
   "outputs": [
    {
     "data": {
      "text/plain": [
       "array([97, 27, 37, 12, 57,  4, 76, 15, 94, 98])"
      ]
     },
     "execution_count": 55,
     "metadata": {},
     "output_type": "execute_result"
    }
   ],
   "source": [
    "arr"
   ]
  },
  {
   "cell_type": "code",
   "execution_count": 57,
   "id": "1e287994",
   "metadata": {},
   "outputs": [
    {
     "name": "stdout",
     "output_type": "stream",
     "text": [
      "[97 27 37 12]\n",
      "[97 27 37 12 57  4]\n",
      "[97 37 57 76 94]\n"
     ]
    }
   ],
   "source": [
    "print(arr[:4])\n",
    "print(arr[0:-4])\n",
    "print(arr[::2])"
   ]
  },
  {
   "cell_type": "code",
   "execution_count": 25,
   "id": "ab9004a4",
   "metadata": {},
   "outputs": [
    {
     "name": "stdout",
     "output_type": "stream",
     "text": [
      "[20 34 56 81 59 22 13 14  5 36]\n"
     ]
    }
   ],
   "source": [
    "arr=np.random.randint(100, size=(10,))\n",
    "print(arr)"
   ]
  },
  {
   "cell_type": "code",
   "execution_count": 26,
   "id": "75e7778d",
   "metadata": {},
   "outputs": [
    {
     "name": "stdout",
     "output_type": "stream",
     "text": [
      "[]\n"
     ]
    }
   ],
   "source": [
    "print(arr[1:4:-1])"
   ]
  },
  {
   "cell_type": "code",
   "execution_count": 3,
   "id": "f5b6d232",
   "metadata": {},
   "outputs": [
    {
     "name": "stdout",
     "output_type": "stream",
     "text": [
      "[[ 1  2  3  4]\n",
      " [ 5  6  7  8]\n",
      " [ 9 10 11 12]]\n"
     ]
    }
   ],
   "source": [
    "arr=np.array([[1,2,3,4],[5,6,7,8],[9,10,11,12]])\n",
    "print(arr)"
   ]
  },
  {
   "cell_type": "code",
   "execution_count": 4,
   "id": "1fd1dfb1",
   "metadata": {},
   "outputs": [
    {
     "name": "stdout",
     "output_type": "stream",
     "text": [
      "[[2 3]\n",
      " [6 7]]\n"
     ]
    }
   ],
   "source": [
    "print(arr[:2,1:3])"
   ]
  },
  {
   "cell_type": "code",
   "execution_count": 5,
   "id": "eebccfce",
   "metadata": {},
   "outputs": [
    {
     "name": "stdout",
     "output_type": "stream",
     "text": [
      "[[ 5  6  7  8]\n",
      " [ 9 10 11 12]]\n"
     ]
    }
   ],
   "source": [
    "print(arr[1:3, :])"
   ]
  },
  {
   "cell_type": "code",
   "execution_count": 61,
   "id": "005bb592",
   "metadata": {},
   "outputs": [
    {
     "name": "stdout",
     "output_type": "stream",
     "text": [
      "[[7]]\n"
     ]
    }
   ],
   "source": [
    "print(arr[1:2, 2:3])"
   ]
  },
  {
   "cell_type": "code",
   "execution_count": 65,
   "id": "1801bc03",
   "metadata": {},
   "outputs": [
    {
     "name": "stdout",
     "output_type": "stream",
     "text": [
      "[[ 7  8]\n",
      " [11 12]]\n"
     ]
    }
   ],
   "source": [
    "print(arr[1:,2:])"
   ]
  },
  {
   "cell_type": "code",
   "execution_count": 66,
   "id": "63eda61e",
   "metadata": {},
   "outputs": [
    {
     "name": "stdout",
     "output_type": "stream",
     "text": [
      "[[3 4]\n",
      " [7 8]]\n"
     ]
    }
   ],
   "source": [
    "print(arr[0:2, 2:])"
   ]
  },
  {
   "cell_type": "code",
   "execution_count": 67,
   "id": "98af33a6",
   "metadata": {},
   "outputs": [
    {
     "name": "stdout",
     "output_type": "stream",
     "text": [
      "[[1 2 3]\n",
      " [5 6 7]]\n"
     ]
    }
   ],
   "source": [
    "print(arr[0:2,:3])"
   ]
  },
  {
   "cell_type": "markdown",
   "id": "4cb210f7",
   "metadata": {},
   "source": [
    "**Indexing with boolean Arrays**"
   ]
  },
  {
   "cell_type": "code",
   "execution_count": 70,
   "id": "d835cb93",
   "metadata": {},
   "outputs": [
    {
     "name": "stdout",
     "output_type": "stream",
     "text": [
      "[33 73 52 15 54 44 32 93 99 90]\n"
     ]
    }
   ],
   "source": [
    "arr=np.random.randint(100, size=(10,))\n",
    "print(arr)"
   ]
  },
  {
   "cell_type": "code",
   "execution_count": 71,
   "id": "e6ed88d8",
   "metadata": {},
   "outputs": [
    {
     "name": "stdout",
     "output_type": "stream",
     "text": [
      "[33 44 99 90]\n"
     ]
    }
   ],
   "source": [
    "idx=[True,False,False,False,False,True,False,False,True,True]\n",
    "print(arr[idx])"
   ]
  },
  {
   "cell_type": "markdown",
   "id": "a15951b2",
   "metadata": {},
   "source": [
    "**Updating value in the array**"
   ]
  },
  {
   "cell_type": "code",
   "execution_count": 8,
   "id": "08ebdfaf",
   "metadata": {},
   "outputs": [
    {
     "name": "stdout",
     "output_type": "stream",
     "text": [
      "[[83 79 23 90]\n",
      " [77 73 70 38]\n",
      " [28 97 85 61]]\n",
      "updated array:\n",
      " [[83 99 23 90]\n",
      " [77 99 70 38]\n",
      " [28 99 85 61]]\n"
     ]
    }
   ],
   "source": [
    "arr=np.random.randint(100, size=(3,4))\n",
    "print(arr)\n",
    "arr[[1,2,0], [1,1,1]]=99\n",
    "print(\"updated array:\\n\", arr)"
   ]
  },
  {
   "cell_type": "code",
   "execution_count": 3,
   "id": "c7eee755",
   "metadata": {},
   "outputs": [
    {
     "name": "stdout",
     "output_type": "stream",
     "text": [
      "[[ 2  4  6]\n",
      " [ 8 10 12]]\n"
     ]
    }
   ],
   "source": [
    "import numpy as np\n",
    "x = np.array([[1, 2, 3], [4, 5, 6]])\n",
    "print(x*2)"
   ]
  },
  {
   "cell_type": "markdown",
   "id": "3cbe5631",
   "metadata": {},
   "source": [
    "# Numpy Flatten and Ravel"
   ]
  },
  {
   "cell_type": "code",
   "execution_count": 3,
   "id": "ec4464f9",
   "metadata": {},
   "outputs": [
    {
     "name": "stdout",
     "output_type": "stream",
     "text": [
      "[[ 6 38 58 34 65 13  6 71 74 57]\n",
      " [12 90 68  8 53 44 66 53  7 63]\n",
      " [ 1 70 85 40  3 45 37 88 77 34]\n",
      " [20 97 87 41 53 74 77 65 94 36]\n",
      " [63 18 97 18 87 79 74 60 80 69]]\n",
      "shape: (5, 10)\n"
     ]
    }
   ],
   "source": [
    "import numpy as np\n",
    "arr=np.random.randint(100, size=(5,10))\n",
    "print(arr)\n",
    "print(\"shape:\",arr.shape)"
   ]
  },
  {
   "cell_type": "code",
   "execution_count": 4,
   "id": "92cdc75c",
   "metadata": {},
   "outputs": [
    {
     "name": "stdout",
     "output_type": "stream",
     "text": [
      "[ 6 38 58 34 65 13  6 71 74 57 12 90 68  8 53 44 66 53  7 63  1 70 85 40\n",
      "  3 45 37 88 77 34 20 97 87 41 53 74 77 65 94 36 63 18 97 18 87 79 74 60\n",
      " 80 69]\n",
      "(50,)\n"
     ]
    }
   ],
   "source": [
    "flatten_arr=arr.flatten()\n",
    "print(flatten_arr)\n",
    "print(flatten_arr.shape)"
   ]
  },
  {
   "cell_type": "code",
   "execution_count": 3,
   "id": "4e1c1cc9",
   "metadata": {},
   "outputs": [
    {
     "name": "stdout",
     "output_type": "stream",
     "text": [
      "[39 16 22 91 23  7 11 30 67 16  9 67 97 78 90 19 90 68 72 66 70 59 92  5\n",
      " 65 52 62 53 50 57 19 79  3  3 83 72 37 87 46 15 91  2 40 98 53 41 43 79\n",
      " 96 40]\n",
      "(50,)\n"
     ]
    }
   ],
   "source": [
    "ravel=arr.ravel()\n",
    "print(ravel)\n",
    "print(ravel.shape)"
   ]
  },
  {
   "cell_type": "code",
   "execution_count": 4,
   "id": "3504920e",
   "metadata": {},
   "outputs": [
    {
     "name": "stdout",
     "output_type": "stream",
     "text": [
      "[39 16 22 91 23  7 11 30 67 16  9 67 97 78 90 19 90 68 72 66 70 59 92  5\n",
      " 65 52 62 53 50 57 19 79  3  3 83 72 37 87 46 15 91  2 40 98 53 41 43 79\n",
      " 96 40]\n",
      "[10 10 22 91 23  7 11 30 67 16  9 67 97 78 90 19 90 68 72 66 70 59 92  5\n",
      " 65 52 62 53 50 57 19 79  3  3 83 72 37 87 46 15 91  2 40 98 53 41 43 79\n",
      " 96 40]\n",
      "[[10 10 22 91 23  7 11 30 67 16]\n",
      " [ 9 67 97 78 90 19 90 68 72 66]\n",
      " [70 59 92  5 65 52 62 53 50 57]\n",
      " [19 79  3  3 83 72 37 87 46 15]\n",
      " [91  2 40 98 53 41 43 79 96 40]]\n"
     ]
    }
   ],
   "source": [
    "ravel[[0,1]]=10\n",
    "print(flatten_arr)\n",
    "print(ravel) #it effect to the original array.\n",
    "print(arr)"
   ]
  },
  {
   "cell_type": "markdown",
   "id": "cafca28b",
   "metadata": {},
   "source": [
    "**Iterating over Numpy Array**"
   ]
  },
  {
   "cell_type": "code",
   "execution_count": 3,
   "id": "17bfaa7c",
   "metadata": {},
   "outputs": [
    {
     "name": "stdout",
     "output_type": "stream",
     "text": [
      "[31 36 36 25 18 15 24 27 29 39]\n",
      "(10,)\n"
     ]
    }
   ],
   "source": [
    "import numpy as np\n",
    "arr_1d=np.random.randint(10,40,size=(10,))\n",
    "print(arr_1d)\n",
    "print(arr_1d.shape)"
   ]
  },
  {
   "cell_type": "code",
   "execution_count": 4,
   "id": "ffffe7a9",
   "metadata": {},
   "outputs": [
    {
     "name": "stdout",
     "output_type": "stream",
     "text": [
      "31 36 36 25 18 15 24 27 29 39 "
     ]
    }
   ],
   "source": [
    "for i in arr_1d:\n",
    "    print(i, end=\" \")"
   ]
  },
  {
   "cell_type": "code",
   "execution_count": 6,
   "id": "bae41db0",
   "metadata": {},
   "outputs": [
    {
     "name": "stdout",
     "output_type": "stream",
     "text": [
      "[[11 15 27 12 10 20 17 15 11 15]\n",
      " [10 31 13 12 18 23 27 35 38 21]\n",
      " [18 35 34 16 31 27 38 36 38 33]\n",
      " [22 39 35 35 38 19 31 33 13 33]\n",
      " [11 17 36 28 10 37 25 26 16 20]]\n",
      "(5, 10)\n"
     ]
    }
   ],
   "source": [
    "arr_2d=np.random.randint(10,40,size=(5,10))\n",
    "print(arr_2d)\n",
    "print(arr_2d.shape)"
   ]
  },
  {
   "cell_type": "code",
   "execution_count": 7,
   "id": "de49570e",
   "metadata": {},
   "outputs": [
    {
     "name": "stdout",
     "output_type": "stream",
     "text": [
      "[11 15 27 12 10 20 17 15 11 15]\n",
      "[10 31 13 12 18 23 27 35 38 21]\n",
      "[18 35 34 16 31 27 38 36 38 33]\n",
      "[22 39 35 35 38 19 31 33 13 33]\n",
      "[11 17 36 28 10 37 25 26 16 20]\n"
     ]
    }
   ],
   "source": [
    "for i in arr_2d:\n",
    "    print(i)"
   ]
  },
  {
   "cell_type": "code",
   "execution_count": 8,
   "id": "66636de5",
   "metadata": {},
   "outputs": [
    {
     "name": "stdout",
     "output_type": "stream",
     "text": [
      "11 15 27 12 10 20 17 15 11 15 10 31 13 12 18 23 27 35 38 21 18 35 34 16 31 27 38 36 38 33 22 39 35 35 38 19 31 33 13 33 11 17 36 28 10 37 25 26 16 20 "
     ]
    }
   ],
   "source": [
    "for i in arr_2d.ravel():\n",
    "    print(i, end=\" \")"
   ]
  },
  {
   "cell_type": "markdown",
   "id": "301b7102",
   "metadata": {},
   "source": [
    "**ndarray.flat**"
   ]
  },
  {
   "cell_type": "markdown",
   "id": "ce498364",
   "metadata": {},
   "source": [
    "1. **Flat:** The ndarray.flat attribute returns an iterator object that allows you to traverse the elements of the ndarray in a flattened manner, regardless of the original shape of the array. \n",
    "    ndarray.flat returns an iterator for traversing the elements of the ndarray without creating a new array. It provides a memory-efficient way to iterate over the elements.\n",
    "    \n",
    "2. **ndarray.flatten()** returns a new 1-dimensional array containing the flattened elements of the ndarray. It creates a new array and consumes additional memory.\n",
    "\n",
    "Which one to use depends on your specific use case:\n",
    "\n",
    "If you just need to iterate through the elements and don't need a separate array, **ndarray.flat** might be more memory-efficient.\n",
    "\n",
    "If you need a separate flattened array for further computation, then using **ndarray.flatten()** is appropriate."
   ]
  },
  {
   "cell_type": "code",
   "execution_count": 5,
   "id": "b0c09eb2",
   "metadata": {},
   "outputs": [
    {
     "name": "stdout",
     "output_type": "stream",
     "text": [
      "[[27 21 32 30]\n",
      " [15 31 30 18]\n",
      " [22 38 26 36]\n",
      " [19 33 33 10]\n",
      " [39 37 15 17]]\n",
      "[27 21 32 30 15 31 30 18 22 38 26 36 19 33 33 10 39 37 15 17]\n",
      "27\n",
      "[27 21 32 30]\n"
     ]
    }
   ],
   "source": [
    "import numpy as np\n",
    "arr=np.random.randint(10,40, size=(5,4))\n",
    "flatten_arr=arr.flatten()\n",
    "print(arr)\n",
    "print(flatten_arr)\n",
    "print(arr.flat[0]) # Flat is A 1-D iterator over the array.\n",
    "print(arr[0])"
   ]
  },
  {
   "cell_type": "code",
   "execution_count": 7,
   "id": "e862a0ee",
   "metadata": {},
   "outputs": [
    {
     "name": "stdout",
     "output_type": "stream",
     "text": [
      "updated_array:\n",
      " [[22 12 -1 32]\n",
      " [-1 -1 12 -1]\n",
      " [-1 12 32 -1]\n",
      " [26 -1 -1 36]\n",
      " [22 28 -1 28]]\n"
     ]
    }
   ],
   "source": [
    "import numpy as np\n",
    "arr_2d=np.random.randint(10,40,size=(5,4))\n",
    "ravel_arr=arr_2d.ravel()\n",
    "for i in range(len(ravel_arr)):\n",
    "    if (ravel_arr[i]% 2 !=0):\n",
    "        ravel_arr[i]=-1\n",
    "print(\"updated_array:\\n\", arr_2d)"
   ]
  },
  {
   "cell_type": "code",
   "execution_count": 13,
   "id": "18e832ae",
   "metadata": {},
   "outputs": [
    {
     "data": {
      "text/plain": [
       "array([[1., 0., 0.],\n",
       "       [0., 1., 0.],\n",
       "       [0., 0., 1.]])"
      ]
     },
     "execution_count": 13,
     "metadata": {},
     "output_type": "execute_result"
    }
   ],
   "source": [
    "np.zeros((3,3))"
   ]
  },
  {
   "cell_type": "code",
   "execution_count": 53,
   "id": "ef1a058a",
   "metadata": {},
   "outputs": [
    {
     "name": "stdout",
     "output_type": "stream",
     "text": [
      "[[50 43 36  7]\n",
      " [56 50 92  5]\n",
      " [97 16  1 94]\n",
      " [15 35 16 11]\n",
      " [46 38 53 51]]\n",
      "[[50 -1 36 -1]\n",
      " [56 50 92 -1]\n",
      " [-1 16 -1 94]\n",
      " [15 35 16 -1]\n",
      " [46 38 -1 51]]\n"
     ]
    }
   ],
   "source": [
    "arr = np.random.randint(100, size =(5,4))\n",
    "print(arr)\n",
    "flatten_arr = arr.ravel()\n",
    "for i in range(len(flatten_arr)):\n",
    "    count =0\n",
    "    for j in range(2, flatten_arr[i]//2 +1):\n",
    "        if flatten_arr[i]% j == 0:\n",
    "            count +=1\n",
    "    if count ==0:\n",
    "            flatten_arr[i]=-1\n",
    "print(arr)"
   ]
  },
  {
   "cell_type": "code",
   "execution_count": 14,
   "id": "a16e537b",
   "metadata": {},
   "outputs": [
    {
     "name": "stdout",
     "output_type": "stream",
     "text": [
      "[[3 3 3 3]\n",
      " [3 3 3 3]\n",
      " [3 3 3 3]\n",
      " [3 3 3 3]\n",
      " [3 3 3 3]]\n"
     ]
    }
   ],
   "source": [
    "arr.flat=3\n",
    "print(arr)"
   ]
  },
  {
   "cell_type": "code",
   "execution_count": 5,
   "id": "9c31c0ff",
   "metadata": {},
   "outputs": [
    {
     "data": {
      "text/plain": [
       "array([[3, 3, 3, 3],\n",
       "       [3, 3, 3, 3],\n",
       "       [3, 3, 3, 3],\n",
       "       [3, 3, 3, 3],\n",
       "       [3, 3, 3, 3]])"
      ]
     },
     "execution_count": 5,
     "metadata": {},
     "output_type": "execute_result"
    }
   ],
   "source": [
    "arr.flat=3;arr"
   ]
  },
  {
   "cell_type": "code",
   "execution_count": 6,
   "id": "68ff1131",
   "metadata": {},
   "outputs": [
    {
     "data": {
      "text/plain": [
       "array([[3, 1, 3, 3],\n",
       "       [1, 3, 1, 3],\n",
       "       [3, 3, 3, 3],\n",
       "       [3, 3, 3, 3],\n",
       "       [3, 3, 3, 3]])"
      ]
     },
     "execution_count": 6,
     "metadata": {},
     "output_type": "execute_result"
    }
   ],
   "source": [
    "arr.flat[[1,4,6]]= 1\n",
    "arr"
   ]
  },
  {
   "cell_type": "markdown",
   "id": "c4768a9a",
   "metadata": {},
   "source": [
    "**if we what to assigning any value to the array , we can use flat.**"
   ]
  },
  {
   "cell_type": "markdown",
   "id": "5e0948b8",
   "metadata": {},
   "source": [
    "**Write a program to assign a value -1 if the element is odd number**"
   ]
  },
  {
   "cell_type": "code",
   "execution_count": 79,
   "id": "b9c76f22",
   "metadata": {},
   "outputs": [
    {
     "name": "stdout",
     "output_type": "stream",
     "text": [
      "Origanal Array \n",
      " [[37 27 38 36 32]\n",
      " [27 16 18 26 19]\n",
      " [16 12 31 33 15]\n",
      " [15 15 39 28 24]\n",
      " [28 39 27 21 25]]\n",
      "[37 16 31 28 25]\n"
     ]
    }
   ],
   "source": [
    "arr = np.random.randint(10,40, size=(5,5))\n",
    "print(\"Origanal Array \\n\", arr)\n",
    "print(arr.flat[[0,6,12,18,24]])"
   ]
  },
  {
   "cell_type": "code",
   "execution_count": 81,
   "id": "4b35adc4",
   "metadata": {},
   "outputs": [],
   "source": [
    "arr[[1,2,3],[3,2,4]] =1"
   ]
  },
  {
   "cell_type": "code",
   "execution_count": 82,
   "id": "97d75c75",
   "metadata": {},
   "outputs": [
    {
     "data": {
      "text/plain": [
       "array([[37, 27, 38, 36, 32],\n",
       "       [27, 16, 18,  1, 19],\n",
       "       [16, 12,  1, 33, 15],\n",
       "       [15, 15, 39, 28,  1],\n",
       "       [28, 39, 27, 21, 25]])"
      ]
     },
     "execution_count": 82,
     "metadata": {},
     "output_type": "execute_result"
    }
   ],
   "source": [
    "arr"
   ]
  },
  {
   "cell_type": "markdown",
   "id": "bf848b43",
   "metadata": {},
   "source": [
    "**write a program ,assign a value -1 at even place of an array**"
   ]
  },
  {
   "cell_type": "code",
   "execution_count": 1,
   "id": "0cfd8807",
   "metadata": {},
   "outputs": [
    {
     "name": "stdout",
     "output_type": "stream",
     "text": [
      "Numpy Array: \n",
      " [[14 32 32 21]\n",
      " [29 29 11 26]\n",
      " [23 32 30 31]\n",
      " [14 20 23 25]\n",
      " [38 27 38 37]]\n",
      "Modified Array: \n",
      " [[-1 32 -1 21]\n",
      " [-1 29 -1 26]\n",
      " [-1 32 -1 31]\n",
      " [-1 20 -1 25]\n",
      " [-1 27 -1 37]]\n"
     ]
    }
   ],
   "source": [
    "import numpy as np\n",
    "arr=np.random.randint(10,40, size=(5,4))\n",
    "print(\"Numpy Array: \\n\", arr)\n",
    "for i in range(5*4):\n",
    "    if(i%2==0):\n",
    "        arr.flat[i]=-1\n",
    "print(\"Modified Array: \\n\", arr)"
   ]
  },
  {
   "cell_type": "code",
   "execution_count": 14,
   "id": "70600659",
   "metadata": {},
   "outputs": [
    {
     "data": {
      "text/plain": [
       "array([[1, 2],\n",
       "       [3, 4],\n",
       "       [5, 6],\n",
       "       [7, 8]])"
      ]
     },
     "execution_count": 14,
     "metadata": {},
     "output_type": "execute_result"
    }
   ],
   "source": [
    "arr = np.array([[1,2,3,4],[5,6,7,8]])\n",
    "arr.reshape(4,2)"
   ]
  },
  {
   "cell_type": "code",
   "execution_count": 3,
   "id": "6bf3a3e8",
   "metadata": {},
   "outputs": [
    {
     "name": "stdout",
     "output_type": "stream",
     "text": [
      "[[10 29 -1 25]\n",
      " [-1 37 -1 31]\n",
      " [-1 22 -1 19]\n",
      " [-1 31 -1 16]\n",
      " [-1 38 -1 11]]\n"
     ]
    }
   ],
   "source": [
    "arr=np.random.randint(10,40, size=(5,4))\n",
    "arr.flat[[2,4,6,8,10,12,14,16,18]]=-1\n",
    "print(arr)"
   ]
  },
  {
   "cell_type": "markdown",
   "id": "16626692",
   "metadata": {},
   "source": [
    "**Numpy Reshape**"
   ]
  },
  {
   "cell_type": "code",
   "execution_count": 9,
   "id": "e11a6296",
   "metadata": {},
   "outputs": [
    {
     "name": "stdout",
     "output_type": "stream",
     "text": [
      "[[11 19 38 27 20 37 24 31 38 31]\n",
      " [22 27 25 24 18 19 11 26 36 18]\n",
      " [31 12 19 17 29 23 34 33 30 10]\n",
      " [35 35 14 22 15 12 12 13 21 38]\n",
      " [18 33 19 21 21 37 18 25 22 12]]\n",
      "(5, 10)\n"
     ]
    }
   ],
   "source": [
    "arr=np.random.randint(10,40, size=(5,10))\n",
    "print(arr)\n",
    "print(arr.shape)"
   ]
  },
  {
   "cell_type": "code",
   "execution_count": 10,
   "id": "8e59f076",
   "metadata": {},
   "outputs": [
    {
     "name": "stdout",
     "output_type": "stream",
     "text": [
      "[[11 19 38 27 20]\n",
      " [37 24 31 38 31]\n",
      " [22 27 25 24 18]\n",
      " [19 11 26 36 18]\n",
      " [31 12 19 17 29]\n",
      " [23 34 33 30 10]\n",
      " [35 35 14 22 15]\n",
      " [12 12 13 21 38]\n",
      " [18 33 19 21 21]\n",
      " [37 18 25 22 12]]\n"
     ]
    }
   ],
   "source": [
    "arr_reshape=arr.reshape(10,5)\n",
    "print(arr_reshape)"
   ]
  },
  {
   "cell_type": "code",
   "execution_count": 11,
   "id": "7baf35ef",
   "metadata": {},
   "outputs": [
    {
     "name": "stdout",
     "output_type": "stream",
     "text": [
      "[[11 19]\n",
      " [38 27]\n",
      " [20 37]\n",
      " [24 31]\n",
      " [38 31]\n",
      " [22 27]\n",
      " [25 24]\n",
      " [18 19]\n",
      " [11 26]\n",
      " [36 18]\n",
      " [31 12]\n",
      " [19 17]\n",
      " [29 23]\n",
      " [34 33]\n",
      " [30 10]\n",
      " [35 35]\n",
      " [14 22]\n",
      " [15 12]\n",
      " [12 13]\n",
      " [21 38]\n",
      " [18 33]\n",
      " [19 21]\n",
      " [21 37]\n",
      " [18 25]\n",
      " [22 12]]\n"
     ]
    }
   ],
   "source": [
    "arr_reshape=arr.reshape(25,2)\n",
    "print(arr_reshape)"
   ]
  },
  {
   "cell_type": "markdown",
   "id": "ae5e3303",
   "metadata": {},
   "source": [
    "**np.niter()**"
   ]
  },
  {
   "cell_type": "code",
   "execution_count": 11,
   "id": "5d8fe72f",
   "metadata": {},
   "outputs": [
    {
     "name": "stdout",
     "output_type": "stream",
     "text": [
      "19 10 20 33 16 21 16 26 15 31 24 17 19 14 26 31 28 30 20 30 31 25 33 35 36 28 39 22 19 11 30 36 25 26 15 20 29 21 23 16 21 34 34 29 14 30 22 33 26 18 "
     ]
    }
   ],
   "source": [
    "arr=np.random.randint(10,40, size=(5,10))\n",
    "for i in np.nditer(arr):\n",
    "    print(i,end=\" \")"
   ]
  },
  {
   "cell_type": "code",
   "execution_count": 12,
   "id": "9f9ec718",
   "metadata": {},
   "outputs": [
    {
     "ename": "ValueError",
     "evalue": "assignment destination is read-only",
     "output_type": "error",
     "traceback": [
      "\u001b[1;31m---------------------------------------------------------------------------\u001b[0m",
      "\u001b[1;31mValueError\u001b[0m                                Traceback (most recent call last)",
      "Cell \u001b[1;32mIn[12], line 4\u001b[0m\n\u001b[0;32m      2\u001b[0m \u001b[38;5;28;01mfor\u001b[39;00m i \u001b[38;5;129;01min\u001b[39;00m np\u001b[38;5;241m.\u001b[39mnditer(arr):\n\u001b[0;32m      3\u001b[0m     \u001b[38;5;28;01mif\u001b[39;00m i\u001b[38;5;241m>\u001b[39m\u001b[38;5;241m20\u001b[39m:\n\u001b[1;32m----> 4\u001b[0m         i[\u001b[38;5;241m.\u001b[39m\u001b[38;5;241m.\u001b[39m\u001b[38;5;241m.\u001b[39m] \u001b[38;5;241m=\u001b[39m \u001b[38;5;241m-\u001b[39m\u001b[38;5;241m1\u001b[39m\n\u001b[0;32m      5\u001b[0m \u001b[38;5;28mprint\u001b[39m(arr)\n",
      "\u001b[1;31mValueError\u001b[0m: assignment destination is read-only"
     ]
    }
   ],
   "source": [
    "arr=np.random.randint(10,40, size=(5,10))\n",
    "for i in np.nditer(arr):\n",
    "    if i>20:\n",
    "        i[...] = -1\n",
    "print(arr)"
   ]
  },
  {
   "cell_type": "code",
   "execution_count": 13,
   "id": "d0933edc",
   "metadata": {},
   "outputs": [
    {
     "name": "stdout",
     "output_type": "stream",
     "text": [
      "Original Array: \n",
      " [[13 19 13 39]\n",
      " [15 29 38 10]\n",
      " [11 34 16 36]\n",
      " [37 19 31 21]\n",
      " [20 14 24 19]]\n",
      "Updated arry \n",
      " [[13 19 13 -1]\n",
      " [15 -1 -1 10]\n",
      " [11 -1 16 -1]\n",
      " [-1 19 -1 -1]\n",
      " [20 14 -1 19]]\n",
      "CPU times: total: 0 ns\n",
      "Wall time: 8.01 ms\n"
     ]
    }
   ],
   "source": [
    "%%time\n",
    "import numpy as np\n",
    "arr=np.random.randint(10,40, size=(5,4))\n",
    "print(\"Original Array: \\n\",arr)\n",
    "for i in np.nditer(arr, op_flags=[\"readwrite\"]):\n",
    "    if i>20:\n",
    "        i[...] = -1\n",
    "print(\"Updated arry \\n\", arr)"
   ]
  },
  {
   "cell_type": "code",
   "execution_count": 2,
   "id": "889deff4",
   "metadata": {},
   "outputs": [
    {
     "name": "stdout",
     "output_type": "stream",
     "text": [
      "Origanal Array \n",
      " [[14 34 24 26]\n",
      " [39 32 24 14]\n",
      " [10 16 18 38]\n",
      " [13 33 38 26]\n",
      " [13 24 26 18]]\n",
      "updated array: \n",
      " [[14 -1 -1 -1]\n",
      " [-1 -1 -1 14]\n",
      " [10 16 18 -1]\n",
      " [13 -1 -1 -1]\n",
      " [13 -1 -1 18]]\n",
      "CPU times: total: 0 ns\n",
      "Wall time: 1 ms\n"
     ]
    }
   ],
   "source": [
    "%%time\n",
    "arr = np.random.randint(10,40, size=(5,4))\n",
    "print(\"Origanal Array \\n\", arr)\n",
    "for i in np.arange(5*4):\n",
    "    if arr.flat[i] > 20:\n",
    "        arr.flat[i]=-1\n",
    "print(\"updated array: \\n\",arr)"
   ]
  },
  {
   "cell_type": "code",
   "execution_count": 3,
   "id": "6be8962a",
   "metadata": {},
   "outputs": [
    {
     "name": "stdout",
     "output_type": "stream",
     "text": [
      "Original Array: \n",
      " [[11 35 22 37]\n",
      " [39 25 16 32]\n",
      " [29 16 32 17]\n",
      " [17 35 24 10]\n",
      " [34 27 11 21]]\n",
      "Updated arry \n",
      " [[-1 -1 22 -1]\n",
      " [-1 -1 16 32]\n",
      " [-1 16 32 -1]\n",
      " [-1 -1 24 10]\n",
      " [34 -1 -1 -1]]\n",
      "CPU times: total: 0 ns\n",
      "Wall time: 1.01 ms\n"
     ]
    }
   ],
   "source": [
    "%%time\n",
    "arr_2d=np.random.randint(10,40, size=(5,4))\n",
    "print(\"Original Array: \\n\",arr_2d)\n",
    "for i in np.nditer(arr_2d, op_flags=[\"readwrite\"]):\n",
    "    if i%2 !=0:\n",
    "        i[...] = -1\n",
    "print(\"Updated arry \\n\", arr_2d)"
   ]
  },
  {
   "cell_type": "code",
   "execution_count": 31,
   "id": "ce4bd7fe",
   "metadata": {},
   "outputs": [
    {
     "name": "stdout",
     "output_type": "stream",
     "text": [
      "Numpy Array: \n",
      " [[25 20 29 20]\n",
      " [35 21 17 23]\n",
      " [12 21 32 25]\n",
      " [31 21 35 29]\n",
      " [13 25 35 25]]\n",
      "Modified Array: \n",
      " [[25 -1 29 -1]\n",
      " [35 -1 17 -1]\n",
      " [12 -1 32 -1]\n",
      " [31 -1 35 -1]\n",
      " [13 -1 35 -1]]\n"
     ]
    }
   ],
   "source": [
    "import numpy as np\n",
    "arr = np.random.randint(10,40, size=(5,4))\n",
    "print(\"Numpy Array: \\n\", arr)\n",
    "for i in range(5*4):\n",
    "    if(i% 2 !=0):\n",
    "        arr.flat[i] = -1\n",
    "print(\"Modified Array: \\n\", arr)"
   ]
  },
  {
   "cell_type": "markdown",
   "id": "587ac008",
   "metadata": {},
   "source": [
    "**Exercise: Given an array [1, -10, 2, 3, 0, 6], print the array in this order [0, 6, -10, 2, 1, 3]**"
   ]
  },
  {
   "cell_type": "code",
   "execution_count": 58,
   "id": "f0cd7ae3",
   "metadata": {},
   "outputs": [
    {
     "name": "stdout",
     "output_type": "stream",
     "text": [
      "[  0   6 -10   2   1   3]\n"
     ]
    }
   ],
   "source": [
    "array = np.array([1, -10, 2, 3, 0, 6])\n",
    "array.flat[[0,1,2,3,4,5]] = 0,6,-10,2,1,3\n",
    "print(array)"
   ]
  },
  {
   "cell_type": "code",
   "execution_count": 29,
   "id": "d7fefd1a",
   "metadata": {},
   "outputs": [
    {
     "name": "stdout",
     "output_type": "stream",
     "text": [
      "[  0   6 -10   2   1   3]\n"
     ]
    }
   ],
   "source": [
    "arr= np.array([1, -10, 2, 3, 0, 6])\n",
    "print(arr[[4,5,1,2,0,3]])"
   ]
  },
  {
   "cell_type": "markdown",
   "id": "1c82de0a",
   "metadata": {},
   "source": [
    "# Python Operators on NUmpy Array"
   ]
  },
  {
   "cell_type": "code",
   "execution_count": 15,
   "id": "92b40f42",
   "metadata": {},
   "outputs": [
    {
     "name": "stdout",
     "output_type": "stream",
     "text": [
      "[[1 2]\n",
      " [3 4]]\n"
     ]
    }
   ],
   "source": [
    "arr=np.array([[1,2],[3,4]])\n",
    "print(arr)"
   ]
  },
  {
   "cell_type": "code",
   "execution_count": 17,
   "id": "ea6328f8",
   "metadata": {},
   "outputs": [
    {
     "name": "stdout",
     "output_type": "stream",
     "text": [
      "[[5 6]\n",
      " [7 8]]\n"
     ]
    }
   ],
   "source": [
    "print(arr+4)"
   ]
  },
  {
   "cell_type": "code",
   "execution_count": 37,
   "id": "6d843bf1",
   "metadata": {},
   "outputs": [
    {
     "name": "stdout",
     "output_type": "stream",
     "text": [
      "[[2 4]\n",
      " [6 8]]\n"
     ]
    }
   ],
   "source": [
    "print(arr*2)"
   ]
  },
  {
   "cell_type": "code",
   "execution_count": 38,
   "id": "0c35c36a",
   "metadata": {},
   "outputs": [
    {
     "name": "stdout",
     "output_type": "stream",
     "text": [
      "[[False  True]\n",
      " [ True  True]]\n"
     ]
    }
   ],
   "source": [
    "print(arr>=2)"
   ]
  },
  {
   "cell_type": "code",
   "execution_count": 39,
   "id": "55758f87",
   "metadata": {},
   "outputs": [
    {
     "name": "stdout",
     "output_type": "stream",
     "text": [
      "[[False  True]\n",
      " [False  True]]\n"
     ]
    }
   ],
   "source": [
    "print(arr %2==0)"
   ]
  },
  {
   "cell_type": "markdown",
   "id": "5201eaad",
   "metadata": {},
   "source": [
    "**Exercise: Write a program to generate an array with shape 5*4 at random containing positive integer. Perform an update by replacing all odd numbers with -1. (Without Using a Loop)**"
   ]
  },
  {
   "cell_type": "code",
   "execution_count": 50,
   "id": "153dbf3a",
   "metadata": {},
   "outputs": [
    {
     "name": "stdout",
     "output_type": "stream",
     "text": [
      "[[59 31 72 74]\n",
      " [79 90 73 16]\n",
      " [59  7 19  0]\n",
      " [50  6  0 88]\n",
      " [21 31 90 65]]\n",
      "updated array: \n",
      " [[-1 -1 72 74]\n",
      " [-1 90 -1 16]\n",
      " [-1 -1 -1  0]\n",
      " [50  6  0 88]\n",
      " [-1 -1 90 -1]]\n"
     ]
    }
   ],
   "source": [
    "arr = np.random.randint(100, size=(5, 4))\n",
    "print(arr)\n",
    "a = arr % 2 !=0\n",
    "if a.any() == True:\n",
    "    arr[a] = -1\n",
    "print(\"updated array: \\n\",arr)"
   ]
  },
  {
   "cell_type": "code",
   "execution_count": 52,
   "id": "6badb431",
   "metadata": {},
   "outputs": [
    {
     "name": "stdout",
     "output_type": "stream",
     "text": [
      "[[32 57 14  2]\n",
      " [15 70 10  4]\n",
      " [92 99 87 73]\n",
      " [78 32 13 83]\n",
      " [41 74 98 65]]\n",
      "Updated Array: \n",
      " [[32 -1 14  2]\n",
      " [-1 70 10  4]\n",
      " [92 -1 -1 -1]\n",
      " [78 32 -1 -1]\n",
      " [-1 74 98 -1]]\n"
     ]
    }
   ],
   "source": [
    "arr = np.random.randint(100, size=(5, 4))\n",
    "print(arr)\n",
    "a = arr % 2 !=0\n",
    "arr[a] = -1\n",
    "print(\"Updated Array: \\n\", arr)"
   ]
  },
  {
   "cell_type": "markdown",
   "id": "7ed8c9f5",
   "metadata": {},
   "source": [
    "# Ellipsis(...)"
   ]
  },
  {
   "cell_type": "markdown",
   "id": "3c4d97e9",
   "metadata": {},
   "source": [
    "**Ellipsis(...):** expands to the number of (:)objects needed for the selection tuple to index all dimensions.\n",
    "1. it is used for the to access the elements from the ndarray. \n",
    "2. it is also used for slicing consept"
   ]
  },
  {
   "cell_type": "code",
   "execution_count": 18,
   "id": "4d96a285",
   "metadata": {},
   "outputs": [
    {
     "data": {
      "text/plain": [
       "array(1)"
      ]
     },
     "execution_count": 18,
     "metadata": {},
     "output_type": "execute_result"
    }
   ],
   "source": [
    "arr = np.array([1,2,3,4,5,6,7,8,9])\n",
    "arr[... , 0]"
   ]
  },
  {
   "cell_type": "code",
   "execution_count": 38,
   "id": "52d3a72f",
   "metadata": {},
   "outputs": [
    {
     "name": "stdout",
     "output_type": "stream",
     "text": [
      "array: \n",
      " [[ 1  2  3  4  5  6]\n",
      " [ 5  6  7  8 10  9]\n",
      " [12 13 14 15 17 18]]\n",
      "[ 2  6 13]\n"
     ]
    }
   ],
   "source": [
    "arr = np.array([[1,2,3,4,5,6],[5,6,7,8,10,9],[12,13,14,15,17,18]])\n",
    "print(\"array: \\n\",arr)\n",
    "print(arr[... , 1])"
   ]
  },
  {
   "cell_type": "code",
   "execution_count": 42,
   "id": "af8d8f37",
   "metadata": {},
   "outputs": [
    {
     "name": "stdout",
     "output_type": "stream",
     "text": [
      "[ 2  6 13]\n"
     ]
    }
   ],
   "source": [
    "print(arr[:, 1])"
   ]
  },
  {
   "cell_type": "code",
   "execution_count": 48,
   "id": "9b6bf9ca",
   "metadata": {},
   "outputs": [
    {
     "name": "stdout",
     "output_type": "stream",
     "text": [
      "[ 5 10 17]\n"
     ]
    }
   ],
   "source": [
    "print(arr[..., 4])"
   ]
  },
  {
   "cell_type": "code",
   "execution_count": 43,
   "id": "691882e7",
   "metadata": {},
   "outputs": [
    {
     "name": "stdout",
     "output_type": "stream",
     "text": [
      "[[1 2 3 4 5 6]]\n"
     ]
    }
   ],
   "source": [
    "print(arr[:1,:])"
   ]
  },
  {
   "cell_type": "code",
   "execution_count": 38,
   "id": "0b575c0d",
   "metadata": {},
   "outputs": [
    {
     "name": "stdout",
     "output_type": "stream",
     "text": [
      "[ 5  6  7  8 10  9]\n"
     ]
    }
   ],
   "source": [
    "print(arr[1, ...])"
   ]
  },
  {
   "cell_type": "code",
   "execution_count": 39,
   "id": "e97389ab",
   "metadata": {},
   "outputs": [
    {
     "name": "stdout",
     "output_type": "stream",
     "text": [
      "[ 5  6  7  8 10  9]\n"
     ]
    }
   ],
   "source": [
    "print(arr[1,:])"
   ]
  },
  {
   "cell_type": "code",
   "execution_count": 21,
   "id": "69c5586c",
   "metadata": {},
   "outputs": [
    {
     "name": "stdout",
     "output_type": "stream",
     "text": [
      "[45 50 80 ... 55 75 85]\n"
     ]
    }
   ],
   "source": [
    "import numpy as np\n",
    "arr =np.random.randint(100, size =(100, 100))\n",
    "factor_num= (arr %5==0)  | ((arr%7 == 0) & (arr %2 !=0))\n",
    "print(arr[factor_num])"
   ]
  },
  {
   "cell_type": "markdown",
   "id": "d2fead36",
   "metadata": {},
   "source": [
    "# Numpy Maths"
   ]
  },
  {
   "cell_type": "code",
   "execution_count": 55,
   "id": "72d9f5d8",
   "metadata": {},
   "outputs": [
    {
     "name": "stdout",
     "output_type": "stream",
     "text": [
      "Square root:  2.0\n",
      "Exponent:  2.718281828459045\n",
      "Trigonometric Sin:  0.0\n",
      "Trigonometric Cos: 1.0\n"
     ]
    }
   ],
   "source": [
    "print(\"Square root: \", np.sqrt(4))\n",
    "print(\"Exponent: \" , np.exp(1))\n",
    "print(\"Trigonometric Sin: \", np.sin(0))\n",
    "print(\"Trigonometric Cos:\", np.cos(0))"
   ]
  },
  {
   "cell_type": "code",
   "execution_count": 22,
   "id": "9b26f8b5",
   "metadata": {},
   "outputs": [
    {
     "name": "stdout",
     "output_type": "stream",
     "text": [
      "Square root:  [1.         1.41421356 1.73205081 2.        ]\n",
      "Exponent:  [ 2.71828183  7.3890561  20.08553692 54.59815003]\n",
      "Trigonometric Sin:  [ 0.84147098  0.90929743  0.14112001 -0.7568025 ]\n",
      "Trigonometric Cos: [ 0.54030231 -0.41614684 -0.9899925  -0.65364362]\n"
     ]
    }
   ],
   "source": [
    "arr= np.array([1,2,3,4])\n",
    "print(\"Square root: \", np.sqrt(arr))\n",
    "print(\"Exponent: \" , np.exp(arr))\n",
    "print(\"Trigonometric Sin: \", np.sin(arr))\n",
    "print(\"Trigonometric Cos:\", np.cos(arr))"
   ]
  },
  {
   "cell_type": "code",
   "execution_count": 46,
   "id": "e3877036",
   "metadata": {},
   "outputs": [
    {
     "name": "stdout",
     "output_type": "stream",
     "text": [
      "x:\n",
      " [[1 2]\n",
      " [3 4]]\n",
      "y: \n",
      " [[5 6]\n",
      " [7 8]]\n",
      "Using matmul function: \n",
      " [[19 22]\n",
      " [43 50]]\n",
      "Using dot function: \n",
      " [[19 22]\n",
      " [43 50]]\n",
      "Using @: \n",
      " [[19 22]\n",
      " [43 50]]\n"
     ]
    }
   ],
   "source": [
    "# matrix multiplication\n",
    "x = np.array([[1,2],[3,4]])\n",
    "y = np.array([[5,6],[7,8]])\n",
    "print(\"x:\\n\", x)\n",
    "print(\"y: \\n\", y)\n",
    "print(\"Using matmul function: \\n\",np.matmul(x,y))\n",
    "print(\"Using dot function: \\n\", np.dot(x,y))\n",
    "print(\"Using @: \\n\",x @ y)"
   ]
  },
  {
   "cell_type": "code",
   "execution_count": 2,
   "id": "430f1667",
   "metadata": {},
   "outputs": [
    {
     "data": {
      "text/plain": [
       "array([[-1, -1, 24, 12],\n",
       "       [-1, 12, -1, -1],\n",
       "       [-1, 20, 26, -1],\n",
       "       [-1, -1, 12, -1],\n",
       "       [-1, 12, 24, -1]])"
      ]
     },
     "execution_count": 2,
     "metadata": {},
     "output_type": "execute_result"
    }
   ],
   "source": [
    "import numpy as np\n",
    "arr =np.random.randint(10,40, size =(5,4))\n",
    "np.where( arr %2 !=0, -1 , arr)"
   ]
  },
  {
   "cell_type": "code",
   "execution_count": 25,
   "id": "bb9b7787",
   "metadata": {},
   "outputs": [
    {
     "data": {
      "text/plain": [
       "array([[225.06666667, 199.46666667],\n",
       "       [199.46666667, 225.46666667]])"
      ]
     },
     "execution_count": 25,
     "metadata": {},
     "output_type": "execute_result"
    }
   ],
   "source": [
    "heights = np.array([160, 180, 146, 162, 184, 180])\n",
    "\n",
    "weights = np.array([50, 78, 45, 51, 80, 60])\n",
    "\n",
    "np.cov(heights, weights)"
   ]
  },
  {
   "cell_type": "markdown",
   "id": "037d6c3d",
   "metadata": {},
   "source": [
    "# np.unique()"
   ]
  },
  {
   "cell_type": "code",
   "execution_count": 35,
   "id": "daa5c305",
   "metadata": {},
   "outputs": [
    {
     "name": "stdout",
     "output_type": "stream",
     "text": [
      "arr: \n",
      " [[3 3]\n",
      " [3 3]\n",
      " [3 1]]\n"
     ]
    },
    {
     "data": {
      "text/plain": [
       "array([1, 3])"
      ]
     },
     "execution_count": 35,
     "metadata": {},
     "output_type": "execute_result"
    }
   ],
   "source": [
    "arr = np.array([[3,3],[3,3],[3,1]])\n",
    "print(\"arr: \\n\", arr)\n",
    "np.unique(arr)"
   ]
  },
  {
   "cell_type": "code",
   "execution_count": 36,
   "id": "eacc5ae4",
   "metadata": {},
   "outputs": [
    {
     "name": "stdout",
     "output_type": "stream",
     "text": [
      "[[3 3]\n",
      " [3 3]\n",
      " [1 3]]\n"
     ]
    }
   ],
   "source": [
    "print(np.unique(arr, axis =1))"
   ]
  },
  {
   "cell_type": "code",
   "execution_count": 37,
   "id": "25425aaa",
   "metadata": {},
   "outputs": [
    {
     "name": "stdout",
     "output_type": "stream",
     "text": [
      "[[3 1]\n",
      " [3 3]]\n"
     ]
    }
   ],
   "source": [
    "print(np.unique(arr, axis=0))"
   ]
  },
  {
   "cell_type": "code",
   "execution_count": 31,
   "id": "722549ba",
   "metadata": {},
   "outputs": [
    {
     "data": {
      "text/plain": [
       "array([[1, 1],\n",
       "       [1, 1],\n",
       "       [1, 2]])"
      ]
     },
     "execution_count": 31,
     "metadata": {},
     "output_type": "execute_result"
    }
   ],
   "source": [
    "arr = np.array([[1,1],[1,1],[1,2]])\n",
    "np.unique(arr, axis=1)"
   ]
  },
  {
   "cell_type": "code",
   "execution_count": 32,
   "id": "9f95ecdd",
   "metadata": {},
   "outputs": [
    {
     "name": "stdout",
     "output_type": "stream",
     "text": [
      "[1 2 3 4 6]\n",
      "[0 1 5 3 2]\n"
     ]
    }
   ],
   "source": [
    "arr = np.array([1, 2, 6, 4, 2, 3, 2])\n",
    "unique_values , index = np.unique(arr, return_index =True)\n",
    "print(unique_values)\n",
    "print(index)"
   ]
  },
  {
   "cell_type": "code",
   "execution_count": 40,
   "id": "6be26040",
   "metadata": {},
   "outputs": [],
   "source": [
    "arr = np.array([1,2,3,2,3])\n",
    "u,inv = np.unique(arr, return_inverse= True)"
   ]
  },
  {
   "cell_type": "code",
   "execution_count": 41,
   "id": "cf799e9a",
   "metadata": {},
   "outputs": [
    {
     "data": {
      "text/plain": [
       "array([1, 2, 3])"
      ]
     },
     "execution_count": 41,
     "metadata": {},
     "output_type": "execute_result"
    }
   ],
   "source": [
    "u"
   ]
  },
  {
   "cell_type": "code",
   "execution_count": 42,
   "id": "3026fb50",
   "metadata": {},
   "outputs": [
    {
     "data": {
      "text/plain": [
       "array([0, 1, 2, 1, 2], dtype=int64)"
      ]
     },
     "execution_count": 42,
     "metadata": {},
     "output_type": "execute_result"
    }
   ],
   "source": [
    "inv"
   ]
  },
  {
   "cell_type": "code",
   "execution_count": 44,
   "id": "91b12290",
   "metadata": {},
   "outputs": [
    {
     "data": {
      "text/plain": [
       "array([1, 2, 3, 2, 3])"
      ]
     },
     "execution_count": 44,
     "metadata": {},
     "output_type": "execute_result"
    }
   ],
   "source": [
    "u[inv]"
   ]
  },
  {
   "cell_type": "code",
   "execution_count": 47,
   "id": "f63fd4dd",
   "metadata": {},
   "outputs": [],
   "source": [
    "arr = np.array([1,2,3,4,5,2,3,4])\n",
    "unique_val, counts = np.unique(arr, return_counts = True)"
   ]
  },
  {
   "cell_type": "code",
   "execution_count": 48,
   "id": "32754336",
   "metadata": {},
   "outputs": [
    {
     "data": {
      "text/plain": [
       "array([1, 2, 3, 4, 5])"
      ]
     },
     "execution_count": 48,
     "metadata": {},
     "output_type": "execute_result"
    }
   ],
   "source": [
    "unique_val"
   ]
  },
  {
   "cell_type": "code",
   "execution_count": 49,
   "id": "dc0e5bf9",
   "metadata": {},
   "outputs": [
    {
     "data": {
      "text/plain": [
       "array([1, 2, 2, 2, 1], dtype=int64)"
      ]
     },
     "execution_count": 49,
     "metadata": {},
     "output_type": "execute_result"
    }
   ],
   "source": [
    "counts"
   ]
  },
  {
   "cell_type": "code",
   "execution_count": 52,
   "id": "580168b1",
   "metadata": {},
   "outputs": [
    {
     "data": {
      "text/plain": [
       "array([1, 2, 2, 3, 3, 4, 4, 5])"
      ]
     },
     "execution_count": 52,
     "metadata": {},
     "output_type": "execute_result"
    }
   ],
   "source": [
    "# reconstruct the oroginal array using unique values and counts\n",
    "np.repeat(unique_val, counts)"
   ]
  },
  {
   "cell_type": "markdown",
   "id": "0ccb46be",
   "metadata": {},
   "source": [
    "# np.in1d()"
   ]
  },
  {
   "cell_type": "code",
   "execution_count": 54,
   "id": "d7441aa2",
   "metadata": {},
   "outputs": [],
   "source": [
    "# if we want to find the arr2 of elements present in the arr1 or not\n",
    "arr1 = np.array([1,2,4,5,6])\n",
    "arr2 = np.array([1,2,3])\n",
    "result = np.in1d(arr1, arr2)  #arr1 of elements present in the arr2."
   ]
  },
  {
   "cell_type": "code",
   "execution_count": 55,
   "id": "0761e8d8",
   "metadata": {},
   "outputs": [
    {
     "data": {
      "text/plain": [
       "array([1, 2])"
      ]
     },
     "execution_count": 55,
     "metadata": {},
     "output_type": "execute_result"
    }
   ],
   "source": [
    "arr1[result] "
   ]
  },
  {
   "cell_type": "code",
   "execution_count": 56,
   "id": "26d012e7",
   "metadata": {},
   "outputs": [],
   "source": [
    "result1 = np.in1d(arr1,arr2, invert= True)  #arr1 of elements not present in the arr1."
   ]
  },
  {
   "cell_type": "code",
   "execution_count": 57,
   "id": "fea4b578",
   "metadata": {},
   "outputs": [
    {
     "data": {
      "text/plain": [
       "array([4, 5, 6])"
      ]
     },
     "execution_count": 57,
     "metadata": {},
     "output_type": "execute_result"
    }
   ],
   "source": [
    "arr1[result1]"
   ]
  },
  {
   "cell_type": "code",
   "execution_count": 58,
   "id": "6dfd5d7e",
   "metadata": {},
   "outputs": [
    {
     "name": "stdout",
     "output_type": "stream",
     "text": [
      "[[0 1]\n",
      " [2 3]]\n"
     ]
    }
   ],
   "source": [
    "import numpy as np\n",
    "array = np.arange(4).reshape((2,2))\n",
    "print(array)\n",
    "array1 = np.array([0,1])\n",
    "result = np.isin(array,array1)"
   ]
  },
  {
   "cell_type": "code",
   "execution_count": 59,
   "id": "01c03d05",
   "metadata": {},
   "outputs": [
    {
     "data": {
      "text/plain": [
       "array([[ True,  True],\n",
       "       [False, False]])"
      ]
     },
     "execution_count": 59,
     "metadata": {},
     "output_type": "execute_result"
    }
   ],
   "source": [
    "result"
   ]
  },
  {
   "cell_type": "code",
   "execution_count": 60,
   "id": "cef0efbe",
   "metadata": {},
   "outputs": [
    {
     "data": {
      "text/plain": [
       "array([0, 1])"
      ]
     },
     "execution_count": 60,
     "metadata": {},
     "output_type": "execute_result"
    }
   ],
   "source": [
    "array[result]"
   ]
  },
  {
   "cell_type": "code",
   "execution_count": 61,
   "id": "29d802df",
   "metadata": {},
   "outputs": [],
   "source": [
    "result1 = np.isin(array, array1, invert =True)  # reverse operation i.e the list of elements not in the array."
   ]
  },
  {
   "cell_type": "code",
   "execution_count": 62,
   "id": "a976a1fa",
   "metadata": {},
   "outputs": [
    {
     "data": {
      "text/plain": [
       "array([[False, False],\n",
       "       [ True,  True]])"
      ]
     },
     "execution_count": 62,
     "metadata": {},
     "output_type": "execute_result"
    }
   ],
   "source": [
    "result1"
   ]
  },
  {
   "cell_type": "code",
   "execution_count": 63,
   "id": "ef7ef25c",
   "metadata": {},
   "outputs": [
    {
     "data": {
      "text/plain": [
       "array([2, 3])"
      ]
     },
     "execution_count": 63,
     "metadata": {},
     "output_type": "execute_result"
    }
   ],
   "source": [
    "array[result1]"
   ]
  },
  {
   "cell_type": "markdown",
   "id": "7b3c1be0",
   "metadata": {},
   "source": [
    "# numpy.setdiff1d"
   ]
  },
  {
   "cell_type": "code",
   "execution_count": 3,
   "id": "7415b9f7",
   "metadata": {},
   "outputs": [
    {
     "data": {
      "text/plain": [
       "array([1, 2])"
      ]
     },
     "execution_count": 3,
     "metadata": {},
     "output_type": "execute_result"
    }
   ],
   "source": [
    "# find the unique values in arra1 that are not present in arr2.\n",
    "import numpy as np\n",
    "arr1 = np.array([1,2,3,4,5,2,4])\n",
    "arr2 = np.array([3,4,5,6,7])\n",
    "np.setdiff1d(arr1,arr2)"
   ]
  },
  {
   "cell_type": "code",
   "execution_count": 4,
   "id": "84bee8b7",
   "metadata": {},
   "outputs": [
    {
     "data": {
      "text/plain": [
       "array([6, 7])"
      ]
     },
     "execution_count": 4,
     "metadata": {},
     "output_type": "execute_result"
    }
   ],
   "source": [
    "np.setdiff1d(arr2,arr1)"
   ]
  },
  {
   "cell_type": "code",
   "execution_count": 8,
   "id": "430f78ca",
   "metadata": {},
   "outputs": [
    {
     "name": "stdout",
     "output_type": "stream",
     "text": [
      "array_1: \n",
      " [[0 1]\n",
      " [2 3]]\n",
      "array_2: \n",
      " [[1 2]\n",
      " [4 5]]\n"
     ]
    }
   ],
   "source": [
    "arr = np.arange(4).reshape(2,2)\n",
    "print(\"array_1: \\n\",arr,)F\n",
    "arr1 = np.array([[1,2],[4,5]])\n",
    "print(\"array_2: \\n\", arr1)"
   ]
  },
  {
   "cell_type": "code",
   "execution_count": 9,
   "id": "9668ebdd",
   "metadata": {},
   "outputs": [
    {
     "data": {
      "text/plain": [
       "array([0, 3])"
      ]
     },
     "execution_count": 9,
     "metadata": {},
     "output_type": "execute_result"
    }
   ],
   "source": [
    "np.setdiff1d(arr, arr1)"
   ]
  },
  {
   "cell_type": "code",
   "execution_count": 10,
   "id": "abde7cbe",
   "metadata": {},
   "outputs": [
    {
     "data": {
      "text/plain": [
       "array([4, 5])"
      ]
     },
     "execution_count": 10,
     "metadata": {},
     "output_type": "execute_result"
    }
   ],
   "source": [
    "np.setdiff1d(arr1, arr)"
   ]
  },
  {
   "cell_type": "markdown",
   "id": "b9ada637",
   "metadata": {},
   "source": [
    "# numpy.setxor1d"
   ]
  },
  {
   "cell_type": "code",
   "execution_count": 11,
   "id": "d27e235c",
   "metadata": {},
   "outputs": [
    {
     "data": {
      "text/plain": [
       "array([1, 3, 5, 6, 7])"
      ]
     },
     "execution_count": 11,
     "metadata": {},
     "output_type": "execute_result"
    }
   ],
   "source": [
    "a = np.array([1,2,3,4,2,4])\n",
    "b = np.array([2,4,5,6,5,7])\n",
    "np.setxor1d(a,b)"
   ]
  },
  {
   "cell_type": "code",
   "execution_count": 12,
   "id": "c6398775",
   "metadata": {},
   "outputs": [
    {
     "data": {
      "text/plain": [
       "array([1, 3, 5, 6, 7])"
      ]
     },
     "execution_count": 12,
     "metadata": {},
     "output_type": "execute_result"
    }
   ],
   "source": [
    "np.setxor1d(b,a)"
   ]
  },
  {
   "cell_type": "code",
   "execution_count": 14,
   "id": "06e03eff",
   "metadata": {},
   "outputs": [
    {
     "name": "stdout",
     "output_type": "stream",
     "text": [
      "a1: \n",
      " [[0 1]\n",
      " [2 3]]\n",
      "b1: \n",
      " [[2 3]\n",
      " [5 6]]\n"
     ]
    },
    {
     "data": {
      "text/plain": [
       "array([0, 1, 5, 6])"
      ]
     },
     "execution_count": 14,
     "metadata": {},
     "output_type": "execute_result"
    }
   ],
   "source": [
    "a1 = np.arange(4).reshape(2,2)\n",
    "print(\"a1: \\n\",a1)\n",
    "b1 = np.array([[2,3],[5,6]])\n",
    "print(\"b1: \\n\",b1)\n",
    "np.setxor1d(a1,b1)"
   ]
  },
  {
   "cell_type": "markdown",
   "id": "7ccab93d",
   "metadata": {},
   "source": [
    "# Numpy Maths"
   ]
  },
  {
   "cell_type": "code",
   "execution_count": 15,
   "id": "c4558be1",
   "metadata": {},
   "outputs": [
    {
     "data": {
      "text/plain": [
       "2.0"
      ]
     },
     "execution_count": 15,
     "metadata": {},
     "output_type": "execute_result"
    }
   ],
   "source": [
    "np.sqrt(4)"
   ]
  },
  {
   "cell_type": "code",
   "execution_count": 16,
   "id": "6ae36961",
   "metadata": {},
   "outputs": [],
   "source": [
    "arr = np.array([1,2,3,4])"
   ]
  },
  {
   "cell_type": "code",
   "execution_count": 17,
   "id": "7de853e9",
   "metadata": {},
   "outputs": [
    {
     "data": {
      "text/plain": [
       "array([1.        , 1.41421356, 1.73205081, 2.        ])"
      ]
     },
     "execution_count": 17,
     "metadata": {},
     "output_type": "execute_result"
    }
   ],
   "source": [
    "np.sqrt(arr)"
   ]
  },
  {
   "cell_type": "code",
   "execution_count": 20,
   "id": "aa556a34",
   "metadata": {},
   "outputs": [],
   "source": [
    "arr1 = np.array([[1,2],[3,4]])"
   ]
  },
  {
   "cell_type": "code",
   "execution_count": 21,
   "id": "d802e527",
   "metadata": {},
   "outputs": [
    {
     "data": {
      "text/plain": [
       "array([[1.        , 1.41421356],\n",
       "       [1.73205081, 2.        ]])"
      ]
     },
     "execution_count": 21,
     "metadata": {},
     "output_type": "execute_result"
    }
   ],
   "source": [
    "np.sqrt(arr1)"
   ]
  },
  {
   "cell_type": "code",
   "execution_count": 22,
   "id": "6c203e28",
   "metadata": {},
   "outputs": [
    {
     "data": {
      "text/plain": [
       "array([[ 2.71828183,  7.3890561 ],\n",
       "       [20.08553692, 54.59815003]])"
      ]
     },
     "execution_count": 22,
     "metadata": {},
     "output_type": "execute_result"
    }
   ],
   "source": [
    "np.exp(arr1)"
   ]
  },
  {
   "cell_type": "code",
   "execution_count": 23,
   "id": "3e0a11d6",
   "metadata": {},
   "outputs": [
    {
     "data": {
      "text/plain": [
       "array([[ 0.84147098,  0.90929743],\n",
       "       [ 0.14112001, -0.7568025 ]])"
      ]
     },
     "execution_count": 23,
     "metadata": {},
     "output_type": "execute_result"
    }
   ],
   "source": [
    "np.sin(arr1)"
   ]
  },
  {
   "cell_type": "code",
   "execution_count": 24,
   "id": "c47fa3c0",
   "metadata": {},
   "outputs": [
    {
     "data": {
      "text/plain": [
       "array([[ 0.54030231, -0.41614684],\n",
       "       [-0.9899925 , -0.65364362]])"
      ]
     },
     "execution_count": 24,
     "metadata": {},
     "output_type": "execute_result"
    }
   ],
   "source": [
    "np.cos(arr1)"
   ]
  },
  {
   "cell_type": "code",
   "execution_count": 25,
   "id": "a75758b0",
   "metadata": {},
   "outputs": [
    {
     "name": "stdout",
     "output_type": "stream",
     "text": [
      "Addition: \n",
      " [[ 4  4]\n",
      " [ 7 10]]\n",
      "Subtraction: \n",
      " [[-2  0]\n",
      " [-1 -2]]\n",
      "Multiplication: \n",
      " [[ 3  4]\n",
      " [12 24]]\n",
      "Division: \n",
      " [[0.33333333 1.        ]\n",
      " [0.75       0.66666667]]\n"
     ]
    }
   ],
   "source": [
    "#element wise operations\n",
    "x = np.array([[1,2],[3,4]])\n",
    "y = np.array([[3,2],[4,6]])\n",
    "print(\"Addition: \\n\", np.add(x,y))\n",
    "print(\"Subtraction: \\n\", np.subtract(x,y))\n",
    "print(\"Multiplication: \\n\", np.multiply(x,y))\n",
    "print(\"Division: \\n\", np.divide(x,y))"
   ]
  },
  {
   "cell_type": "markdown",
   "id": "75a18bb8",
   "metadata": {},
   "source": [
    "**3 ways to find the matrix multiplication**"
   ]
  },
  {
   "cell_type": "code",
   "execution_count": 32,
   "id": "c558efe9",
   "metadata": {},
   "outputs": [
    {
     "name": "stdout",
     "output_type": "stream",
     "text": [
      "[[1 2]\n",
      " [3 4]]\n",
      "[[3 2]\n",
      " [4 6]]\n",
      "way 1: \n",
      " [[11 14]\n",
      " [25 30]]\n",
      "way 2: \n",
      " [[11 14]\n",
      " [25 30]]\n",
      "way 3: \n",
      " [[11 14]\n",
      " [25 30]]\n"
     ]
    }
   ],
   "source": [
    "x = np.array([[1,2],[3,4]])  #[(1*3 + 2*4) (1*2 + 2*6)\n",
    "y = np.array([[3,2],[4,6]])   #(3*3 + 4*4)  (3*2 + 4*6)]\n",
    "print(x)\n",
    "print(y)\n",
    "print(\"way 1: \\n\", np.matmul(x,y))\n",
    "print(\"way 2: \\n\", np.dot(x,y))\n",
    "print(\"way 3: \\n\", x@y)"
   ]
  },
  {
   "cell_type": "code",
   "execution_count": 33,
   "id": "07be4c0b",
   "metadata": {},
   "outputs": [
    {
     "data": {
      "text/plain": [
       "array([1, 5])"
      ]
     },
     "execution_count": 33,
     "metadata": {},
     "output_type": "execute_result"
    }
   ],
   "source": [
    "#diagonal elements\n",
    "x = np.array([[1,2,3],[4,5,6]])\n",
    "np.diag(x)"
   ]
  },
  {
   "cell_type": "code",
   "execution_count": 34,
   "id": "38f51852",
   "metadata": {},
   "outputs": [
    {
     "data": {
      "text/plain": [
       "array([[1, 4],\n",
       "       [2, 5],\n",
       "       [3, 6]])"
      ]
     },
     "execution_count": 34,
     "metadata": {},
     "output_type": "execute_result"
    }
   ],
   "source": [
    "#Transpose\n",
    "x.T"
   ]
  },
  {
   "cell_type": "markdown",
   "id": "b8efcad7",
   "metadata": {},
   "source": [
    "# NUMPY STATISTICS"
   ]
  },
  {
   "cell_type": "code",
   "execution_count": 38,
   "id": "1f35db54",
   "metadata": {},
   "outputs": [
    {
     "name": "stdout",
     "output_type": "stream",
     "text": [
      "min_value:  1\n",
      "max_value:  231\n",
      "mean_value:  60.416666666666664\n",
      "std_value:  65.63847745204197\n",
      "variant: 4308.409722222222\n",
      "median_value:  50.5\n"
     ]
    }
   ],
   "source": [
    "x = np.array([1,2,3,4,5,123,45,76,89,231,56,90])\n",
    "print(\"min_value: \",np.min(x))\n",
    "print(\"max_value: \",np.max(x))\n",
    "print(\"mean_value: \",np.mean(x))\n",
    "print(\"std_value: \",np.std(x))\n",
    "print(\"variant:\", np.var(x))\n",
    "print(\"median_value: \",np.median(x))"
   ]
  },
  {
   "cell_type": "code",
   "execution_count": 40,
   "id": "92ed196a",
   "metadata": {},
   "outputs": [
    {
     "name": "stdout",
     "output_type": "stream",
     "text": [
      "Sum : 10\n"
     ]
    }
   ],
   "source": [
    "x = np.array([[1,2],[3,4]])\n",
    "print(\"Sum :\",np.sum(x))"
   ]
  },
  {
   "cell_type": "code",
   "execution_count": 44,
   "id": "94daf112",
   "metadata": {},
   "outputs": [
    {
     "name": "stdout",
     "output_type": "stream",
     "text": [
      "Sum : [4 6]\n"
     ]
    }
   ],
   "source": [
    "print(\"Sum :\",np.sum(x,axis = 0))  #colum wise"
   ]
  },
  {
   "cell_type": "code",
   "execution_count": 46,
   "id": "f4e20a18",
   "metadata": {},
   "outputs": [
    {
     "name": "stdout",
     "output_type": "stream",
     "text": [
      "Sum : [3 7]\n"
     ]
    }
   ],
   "source": [
    "print(\"Sum :\",np.sum(x, axis = 1))"
   ]
  },
  {
   "cell_type": "code",
   "execution_count": 47,
   "id": "2f7f5781",
   "metadata": {},
   "outputs": [
    {
     "name": "stdout",
     "output_type": "stream",
     "text": [
      "[3.5 5.5]\n",
      "[2 5]\n"
     ]
    }
   ],
   "source": [
    "y = np.array([[2,4],[5,7]])\n",
    "print(np.median(y, axis =0)) \n",
    "print(np.min(y, axis =1))"
   ]
  },
  {
   "cell_type": "code",
   "execution_count": 48,
   "id": "316d2328",
   "metadata": {},
   "outputs": [
    {
     "name": "stdout",
     "output_type": "stream",
     "text": [
      "[5 7]\n",
      "[4 7]\n"
     ]
    }
   ],
   "source": [
    "y = np.array([[2,4],[5,7]])\n",
    "print(np.max(y, axis =0)) \n",
    "print(np.max(y, axis =1))"
   ]
  },
  {
   "cell_type": "markdown",
   "id": "0aaa67a9",
   "metadata": {},
   "source": [
    "# Miscellaneous Topics"
   ]
  },
  {
   "cell_type": "markdown",
   "id": "3b6871c8",
   "metadata": {},
   "source": [
    "**linespace**"
   ]
  },
  {
   "cell_type": "code",
   "execution_count": 50,
   "id": "a65a9772",
   "metadata": {},
   "outputs": [
    {
     "name": "stdout",
     "output_type": "stream",
     "text": [
      "[1.  1.5 2.  2.5 3.  3.5 4.  4.5 5. ]\n"
     ]
    }
   ],
   "source": [
    "print(np.linspace(1,5,9))"
   ]
  },
  {
   "cell_type": "code",
   "execution_count": 51,
   "id": "a1428e9a",
   "metadata": {},
   "outputs": [
    {
     "name": "stdout",
     "output_type": "stream",
     "text": [
      "[1.         1.66666667 2.33333333 3.         3.66666667 4.33333333\n",
      " 5.        ]\n"
     ]
    }
   ],
   "source": [
    "print(np.linspace(1,5,7))"
   ]
  },
  {
   "cell_type": "markdown",
   "id": "89a6f9e0",
   "metadata": {},
   "source": [
    "**sorting**"
   ]
  },
  {
   "cell_type": "code",
   "execution_count": 57,
   "id": "469830c2",
   "metadata": {},
   "outputs": [
    {
     "name": "stdout",
     "output_type": "stream",
     "text": [
      "[[75 92 55 12]\n",
      " [49 41 69 84]\n",
      " [24 69 50 91]\n",
      " [22 77 60 69]]\n"
     ]
    }
   ],
   "source": [
    "arr = np.random.randint(10,100, size = (4,4))\n",
    "print(arr)"
   ]
  },
  {
   "cell_type": "code",
   "execution_count": 58,
   "id": "939ac64b",
   "metadata": {},
   "outputs": [
    {
     "data": {
      "text/plain": [
       "array([[12, 55, 75, 92],\n",
       "       [41, 49, 69, 84],\n",
       "       [24, 50, 69, 91],\n",
       "       [22, 60, 69, 77]])"
      ]
     },
     "execution_count": 58,
     "metadata": {},
     "output_type": "execute_result"
    }
   ],
   "source": [
    "np.sort(arr)"
   ]
  },
  {
   "cell_type": "code",
   "execution_count": 59,
   "id": "c8a5a228",
   "metadata": {},
   "outputs": [
    {
     "data": {
      "text/plain": [
       "array([[22, 41, 50, 12],\n",
       "       [24, 69, 55, 69],\n",
       "       [49, 77, 60, 84],\n",
       "       [75, 92, 69, 91]])"
      ]
     },
     "execution_count": 59,
     "metadata": {},
     "output_type": "execute_result"
    }
   ],
   "source": [
    "np.sort(arr, axis =0)"
   ]
  },
  {
   "cell_type": "code",
   "execution_count": 60,
   "id": "a9d73d51",
   "metadata": {},
   "outputs": [
    {
     "data": {
      "text/plain": [
       "array([[12, 55, 75, 92],\n",
       "       [41, 49, 69, 84],\n",
       "       [24, 50, 69, 91],\n",
       "       [22, 60, 69, 77]])"
      ]
     },
     "execution_count": 60,
     "metadata": {},
     "output_type": "execute_result"
    }
   ],
   "source": [
    "np.sort(arr, axis = 1)"
   ]
  },
  {
   "cell_type": "markdown",
   "id": "e642f983",
   "metadata": {},
   "source": [
    "**Stacking**"
   ]
  },
  {
   "cell_type": "code",
   "execution_count": 65,
   "id": "8cd389f7",
   "metadata": {},
   "outputs": [],
   "source": [
    "arr = np.arange(5,15).reshape(2,5)"
   ]
  },
  {
   "cell_type": "code",
   "execution_count": 66,
   "id": "bff4176b",
   "metadata": {},
   "outputs": [
    {
     "data": {
      "text/plain": [
       "array([[ 5,  6,  7,  8,  9],\n",
       "       [10, 11, 12, 13, 14]])"
      ]
     },
     "execution_count": 66,
     "metadata": {},
     "output_type": "execute_result"
    }
   ],
   "source": [
    "arr"
   ]
  },
  {
   "cell_type": "code",
   "execution_count": 66,
   "id": "a0c934a0",
   "metadata": {},
   "outputs": [],
   "source": [
    "arr1 = np.arange(25,35).reshape(2,5)"
   ]
  },
  {
   "cell_type": "code",
   "execution_count": 69,
   "id": "3e8060a5",
   "metadata": {},
   "outputs": [
    {
     "data": {
      "text/plain": [
       "array([[ 5,  6,  7,  8,  9],\n",
       "       [10, 11, 12, 13, 14],\n",
       "       [25, 26, 27, 28, 29],\n",
       "       [30, 31, 32, 33, 34]])"
      ]
     },
     "execution_count": 69,
     "metadata": {},
     "output_type": "execute_result"
    }
   ],
   "source": [
    "np.vstack([arr,arr1])"
   ]
  },
  {
   "cell_type": "code",
   "execution_count": 67,
   "id": "6814968c",
   "metadata": {},
   "outputs": [
    {
     "data": {
      "text/plain": [
       "array([[30, 32, 34, 36, 38],\n",
       "       [40, 42, 44, 46, 48]])"
      ]
     },
     "execution_count": 67,
     "metadata": {},
     "output_type": "execute_result"
    }
   ],
   "source": [
    "arr+arr1"
   ]
  },
  {
   "cell_type": "code",
   "execution_count": 72,
   "id": "3f9709a1",
   "metadata": {},
   "outputs": [
    {
     "data": {
      "text/plain": [
       "array([[ 5,  6,  7,  8,  9, 25, 26, 27, 28, 29],\n",
       "       [10, 11, 12, 13, 14, 30, 31, 32, 33, 34]])"
      ]
     },
     "execution_count": 72,
     "metadata": {},
     "output_type": "execute_result"
    }
   ],
   "source": [
    "np.hstack([arr,arr1])"
   ]
  },
  {
   "cell_type": "markdown",
   "id": "4332a550",
   "metadata": {},
   "source": [
    "**concatinating**"
   ]
  },
  {
   "cell_type": "code",
   "execution_count": 71,
   "id": "61d5b38e",
   "metadata": {},
   "outputs": [
    {
     "data": {
      "text/plain": [
       "array([[ 5,  6,  7,  8,  9],\n",
       "       [10, 11, 12, 13, 14],\n",
       "       [25, 26, 27, 28, 29],\n",
       "       [30, 31, 32, 33, 34]])"
      ]
     },
     "execution_count": 71,
     "metadata": {},
     "output_type": "execute_result"
    }
   ],
   "source": [
    "np.concatenate([arr,arr1], axis =0)"
   ]
  },
  {
   "cell_type": "code",
   "execution_count": 73,
   "id": "add0a481",
   "metadata": {},
   "outputs": [
    {
     "data": {
      "text/plain": [
       "array([[ 5,  6,  7,  8,  9, 25, 26, 27, 28, 29],\n",
       "       [10, 11, 12, 13, 14, 30, 31, 32, 33, 34]])"
      ]
     },
     "execution_count": 73,
     "metadata": {},
     "output_type": "execute_result"
    }
   ],
   "source": [
    "np.concatenate([arr,arr1], axis =1)"
   ]
  },
  {
   "cell_type": "markdown",
   "id": "5fd5a3c5",
   "metadata": {},
   "source": [
    "**append**"
   ]
  },
  {
   "cell_type": "code",
   "execution_count": 76,
   "id": "49592a16",
   "metadata": {},
   "outputs": [
    {
     "data": {
      "text/plain": [
       "array([[ 5,  6,  7,  8,  9],\n",
       "       [10, 11, 12, 13, 14],\n",
       "       [25, 26, 27, 28, 29],\n",
       "       [30, 31, 32, 33, 34]])"
      ]
     },
     "execution_count": 76,
     "metadata": {},
     "output_type": "execute_result"
    }
   ],
   "source": [
    "np.append(arr,arr1, axis =0)"
   ]
  },
  {
   "cell_type": "code",
   "execution_count": 78,
   "id": "8b0619f7",
   "metadata": {},
   "outputs": [
    {
     "data": {
      "text/plain": [
       "array([[ 5,  6,  7,  8,  9, 25, 26, 27, 28, 29],\n",
       "       [10, 11, 12, 13, 14, 30, 31, 32, 33, 34]])"
      ]
     },
     "execution_count": 78,
     "metadata": {},
     "output_type": "execute_result"
    }
   ],
   "source": [
    "np.append(arr,arr1, axis = 1)"
   ]
  },
  {
   "cell_type": "markdown",
   "id": "478eb0a0",
   "metadata": {},
   "source": [
    "# Numpy.where()"
   ]
  },
  {
   "cell_type": "code",
   "execution_count": 1,
   "id": "f870d0e2",
   "metadata": {},
   "outputs": [],
   "source": [
    "#syntax: np.where(condition, x,y) ,if condition is true than x return else y is return\n",
    "#numpy where is appaly the broadcast application"
   ]
  },
  {
   "cell_type": "code",
   "execution_count": 2,
   "id": "2560ed70",
   "metadata": {},
   "outputs": [
    {
     "name": "stdout",
     "output_type": "stream",
     "text": [
      "Array: \n",
      " [[18 22 19 20]\n",
      " [23 21 18 28]\n",
      " [30 25 30 17]\n",
      " [26 25 10 27]\n",
      " [29 35 38 32]]\n"
     ]
    },
    {
     "data": {
      "text/plain": [
       "array([[1, 1, 1, 1],\n",
       "       [1, 1, 1, 1],\n",
       "       [1, 1, 1, 1],\n",
       "       [1, 1, 1, 1],\n",
       "       [1, 0, 1, 0]])"
      ]
     },
     "execution_count": 2,
     "metadata": {},
     "output_type": "execute_result"
    }
   ],
   "source": [
    "import numpy as np\n",
    "arr = np.random.randint(10,40, size= (5,4))\n",
    "print(\"Array: \\n\", arr)\n",
    "np.where((arr >30) &(arr < 38),0,1)"
   ]
  },
  {
   "cell_type": "markdown",
   "id": "6529a606",
   "metadata": {},
   "source": [
    "# Numpy Insert()"
   ]
  },
  {
   "cell_type": "code",
   "execution_count": 2,
   "id": "6ca41569",
   "metadata": {},
   "outputs": [
    {
     "data": {
      "text/plain": [
       "array([[1, 2],\n",
       "       [6, 6],\n",
       "       [3, 4],\n",
       "       [7, 8]])"
      ]
     },
     "execution_count": 2,
     "metadata": {},
     "output_type": "execute_result"
    }
   ],
   "source": [
    "import numpy as np\n",
    "arr = np.array([[1,2],[3,4],[7,8]])\n",
    "np.insert(arr, 1,6, axis = 0)    # here 5 indic1ates the index, 6 is represent the inserted element at 5th position 0 is row wise"
   ]
  },
  {
   "cell_type": "code",
   "execution_count": 20,
   "id": "056ababb",
   "metadata": {},
   "outputs": [
    {
     "data": {
      "text/plain": [
       "array([[1, 6, 2],\n",
       "       [3, 6, 4],\n",
       "       [7, 6, 8]])"
      ]
     },
     "execution_count": 20,
     "metadata": {},
     "output_type": "execute_result"
    }
   ],
   "source": [
    "np.insert(arr, 1,6, axis = 1)  # 1 is indicates the colum wise."
   ]
  },
  {
   "cell_type": "code",
   "execution_count": 11,
   "id": "e13e99e3",
   "metadata": {},
   "outputs": [
    {
     "data": {
      "text/plain": [
       "array([[1, 1],\n",
       "       [2, 2],\n",
       "       [3, 3]])"
      ]
     },
     "execution_count": 11,
     "metadata": {},
     "output_type": "execute_result"
    }
   ],
   "source": [
    "a = np.array([[1, 1], [2, 2], [3, 3]])\n",
    "a"
   ]
  },
  {
   "cell_type": "code",
   "execution_count": 12,
   "id": "6b68de00",
   "metadata": {},
   "outputs": [
    {
     "data": {
      "text/plain": [
       "array([1, 1, 2, 2, 3, 6, 3])"
      ]
     },
     "execution_count": 12,
     "metadata": {},
     "output_type": "execute_result"
    }
   ],
   "source": [
    "np.insert(a,5,6)"
   ]
  },
  {
   "cell_type": "code",
   "execution_count": 23,
   "id": "0b53a7ee",
   "metadata": {},
   "outputs": [
    {
     "name": "stdout",
     "output_type": "stream",
     "text": [
      "[[1 2]\n",
      " [3 4]\n",
      " [7 8]]\n"
     ]
    },
    {
     "data": {
      "text/plain": [
       "array([[1, 1, 2],\n",
       "       [3, 2, 4],\n",
       "       [7, 3, 8]])"
      ]
     },
     "execution_count": 23,
     "metadata": {},
     "output_type": "execute_result"
    }
   ],
   "source": [
    "print(arr)\n",
    "np.insert(arr,[1],[[1],[2],[3]],axis =1) # if we want to insert at 1st position with diff values. axis= 1 means colums wise"
   ]
  },
  {
   "cell_type": "code",
   "execution_count": 26,
   "id": "0fc12141",
   "metadata": {},
   "outputs": [
    {
     "data": {
      "text/plain": [
       "array([[1, 1, 2],\n",
       "       [3, 2, 4],\n",
       "       [7, 3, 8]])"
      ]
     },
     "execution_count": 26,
     "metadata": {},
     "output_type": "execute_result"
    }
   ],
   "source": [
    "np.insert(arr,   1, [1, 2, 3], axis=1) #if we want to insert at 1st position with diff values. axis= 1 means colums wise"
   ]
  },
  {
   "cell_type": "code",
   "execution_count": 27,
   "id": "8833fb7e",
   "metadata": {},
   "outputs": [
    {
     "data": {
      "text/plain": [
       "True"
      ]
     },
     "execution_count": 27,
     "metadata": {},
     "output_type": "execute_result"
    }
   ],
   "source": [
    "np.array_equal(np.insert(arr,   1, [1, 2, 3], axis=1),\n",
    "               np.insert(arr, [1], [[1],[2],[3]], axis=1))"
   ]
  },
  {
   "cell_type": "code",
   "execution_count": 31,
   "id": "f762f46c",
   "metadata": {},
   "outputs": [
    {
     "data": {
      "text/plain": [
       "array([1, 0, 2, 0, 3, 4, 7, 8])"
      ]
     },
     "execution_count": 31,
     "metadata": {},
     "output_type": "execute_result"
    }
   ],
   "source": [
    "np.insert(arr, slice(1,3),[0,0]) # here (1,3) are index positions and [0,0] are inserted at the 1 and 3 positions."
   ]
  },
  {
   "cell_type": "code",
   "execution_count": 3,
   "id": "1f586517",
   "metadata": {},
   "outputs": [
    {
     "data": {
      "text/plain": [
       "array([18,  3, 22, 19,  0, 20, 23, 21, 18, 28, 30, 25, 30, 17, 26, 25, 10,\n",
       "       27, 29, 35, 38, 32])"
      ]
     },
     "execution_count": 3,
     "metadata": {},
     "output_type": "execute_result"
    }
   ],
   "source": [
    "np.insert(arr, [1,3],[3.4,False])"
   ]
  },
  {
   "cell_type": "markdown",
   "id": "1e67b0d1",
   "metadata": {},
   "source": [
    "Question: Randomly generate a matrix of shape (1Million, 2) and perform below mentioned operations:\n",
    "\n",
    "a. Find the distances between each 2-Dimensional data point from the centroid (i.e. mean) of the given dataset. Append the newly calculated distances as new column with the given dataset."
   ]
  },
  {
   "cell_type": "code",
   "execution_count": 1,
   "id": "d2c1de55",
   "metadata": {},
   "outputs": [],
   "source": [
    "import numpy as np\n",
    "arr = np.random.randint(100, size=(1000000,2))"
   ]
  },
  {
   "cell_type": "code",
   "execution_count": 2,
   "id": "224ef170",
   "metadata": {},
   "outputs": [],
   "source": [
    "#find the Centroid\n",
    "centroid = np.mean(arr, axis =0)"
   ]
  },
  {
   "cell_type": "code",
   "execution_count": 3,
   "id": "b69fa103",
   "metadata": {},
   "outputs": [],
   "source": [
    "#find the distence\n",
    "dist = np.sum((arr - centroid)**2 , axis =1)\n",
    "distance_midvalue = np.sqrt(dist)"
   ]
  },
  {
   "cell_type": "code",
   "execution_count": 14,
   "id": "642c4363",
   "metadata": {},
   "outputs": [
    {
     "name": "stdout",
     "output_type": "stream",
     "text": [
      "[[89.         90.         56.5702742 ]\n",
      " [49.         67.         17.49503122]\n",
      " [28.         33.         27.10228982]\n",
      " ...\n",
      " [33.         34.         22.64053081]\n",
      " [44.         35.         15.51622033]\n",
      " [40.         75.         27.19809092]]\n"
     ]
    }
   ],
   "source": [
    "stacking = np.hstack((arr, distance_midvalue.reshape([1000000, 1])))\n",
    "print(stacking)"
   ]
  },
  {
   "cell_type": "markdown",
   "id": "f330da37",
   "metadata": {},
   "source": [
    "Create an array of shape (1Million, 100). Write a function that takes Numpy array arr and returns a new array where each element represents the count of even elements in original array's row. \n"
   ]
  },
  {
   "cell_type": "code",
   "execution_count": 14,
   "id": "fa1fe1d0",
   "metadata": {},
   "outputs": [
    {
     "name": "stdout",
     "output_type": "stream",
     "text": [
      "Original array: \n",
      "  [[62 77 77 ... 21 18 11]\n",
      " [73 26 91 ... 40 35 28]\n",
      " [90  4 36 ... 45 95 33]\n",
      " ...\n",
      " [75 73 19 ... 15 54 98]\n",
      " [79 44 67 ... 11 83 80]\n",
      " [37 39 21 ...  6 21 37]]\n",
      "Total even numbers from each row of original array:\n",
      "CPU times: total: 1.48 s\n",
      "Wall time: 1.53 s\n"
     ]
    },
    {
     "data": {
      "text/plain": [
       "array([[54],\n",
       "       [51],\n",
       "       [46],\n",
       "       ...,\n",
       "       [55],\n",
       "       [53],\n",
       "       [42]])"
      ]
     },
     "execution_count": 14,
     "metadata": {},
     "output_type": "execute_result"
    }
   ],
   "source": [
    "import numpy as np\n",
    "arr = np.random.randint(100, size =(1000000, 100))\n",
    "even = arr %2 ==0\n",
    "print(\"Original array: \\n \", arr)\n",
    "print(\"Total even numbers from each row of original array:\")\n",
    "np.sum(even, axis =1).reshape((1000000,1))"
   ]
  },
  {
   "cell_type": "markdown",
   "id": "1b1f744a",
   "metadata": {},
   "source": [
    "**How to replace items that satisfy a condition without affecting the original array?**"
   ]
  },
  {
   "cell_type": "code",
   "execution_count": 17,
   "id": "6c2c9979",
   "metadata": {},
   "outputs": [
    {
     "name": "stdout",
     "output_type": "stream",
     "text": [
      "[[2 3 4]\n",
      " [6 7 8]]\n"
     ]
    }
   ],
   "source": [
    "arr_1 = np.array([[1, 2, 3], [4, 5, 6]])\n",
    "arr_2 = np.array([[1], [2]])\n",
    "print(arr_1 + arr_2)"
   ]
  },
  {
   "cell_type": "code",
   "execution_count": 5,
   "id": "1ed4dec7",
   "metadata": {},
   "outputs": [
    {
     "name": "stdout",
     "output_type": "stream",
     "text": [
      "[[2 3 4]\n",
      " [5 6 7]]\n"
     ]
    }
   ],
   "source": [
    "arr_1 = np.array([[1, 2, 3], [4, 5, 6]])\n",
    "\n",
    "arr_2 = np.array([1])\n",
    "\n",
    "print(arr_1 + arr_2)"
   ]
  },
  {
   "cell_type": "code",
   "execution_count": 7,
   "id": "1a53fbf7",
   "metadata": {},
   "outputs": [
    {
     "name": "stdout",
     "output_type": "stream",
     "text": [
      "[[2 4 6]\n",
      " [5 7 9]]\n"
     ]
    }
   ],
   "source": [
    "rr_1 = np.array([[1, 2, 3], [4, 5, 6]])\n",
    "\n",
    "arr_2 = np.array([1, 2, 3])\n",
    "\n",
    "print(arr_1 + arr_2)\n"
   ]
  },
  {
   "cell_type": "code",
   "execution_count": 14,
   "id": "48c4699f",
   "metadata": {},
   "outputs": [
    {
     "ename": "ValueError",
     "evalue": "operands could not be broadcast together with shapes (5,) (4,) ",
     "output_type": "error",
     "traceback": [
      "\u001b[1;31m---------------------------------------------------------------------------\u001b[0m",
      "\u001b[1;31mValueError\u001b[0m                                Traceback (most recent call last)",
      "Cell \u001b[1;32mIn[14], line 5\u001b[0m\n\u001b[0;32m      1\u001b[0m arr_1 \u001b[38;5;241m=\u001b[39m np\u001b[38;5;241m.\u001b[39marray([\u001b[38;5;241m1\u001b[39m, \u001b[38;5;241m2\u001b[39m, \u001b[38;5;241m3\u001b[39m, \u001b[38;5;241m4\u001b[39m, \u001b[38;5;241m5\u001b[39m])\n\u001b[0;32m      3\u001b[0m arr_2 \u001b[38;5;241m=\u001b[39m np\u001b[38;5;241m.\u001b[39marray([\u001b[38;5;241m1\u001b[39m, \u001b[38;5;241m2\u001b[39m, \u001b[38;5;241m3\u001b[39m, \u001b[38;5;241m4\u001b[39m])\n\u001b[1;32m----> 5\u001b[0m \u001b[38;5;28mprint\u001b[39m(arr_1 \u001b[38;5;241m+\u001b[39m arr_2)\n",
      "\u001b[1;31mValueError\u001b[0m: operands could not be broadcast together with shapes (5,) (4,) "
     ]
    }
   ],
   "source": [
    "arr_1 = np.array([1, 2, 3, 4, 5])\n",
    "\n",
    "arr_2 = np.array([1, 2, 3, 4])\n",
    "\n",
    "print(arr_1 + arr_2)"
   ]
  },
  {
   "cell_type": "code",
   "execution_count": 15,
   "id": "35ebad68",
   "metadata": {},
   "outputs": [
    {
     "name": "stdout",
     "output_type": "stream",
     "text": [
      "[[2 3 4 5]\n",
      " [3 4 5 6]\n",
      " [4 5 6 7]\n",
      " [5 6 7 8]\n",
      " [6 7 8 9]]\n"
     ]
    }
   ],
   "source": [
    "arr_1 = np.array([[1], [2], [3], [4], [5]])\n",
    "arr_2 = np.array([1, 2, 3, 4])\n",
    "print(arr_2 + arr_1)"
   ]
  },
  {
   "cell_type": "code",
   "execution_count": 24,
   "id": "8f697790",
   "metadata": {},
   "outputs": [
    {
     "data": {
      "text/plain": [
       "array([[0., 0., 0.],\n",
       "       [0., 0., 0.],\n",
       "       [0., 0., 0.]])"
      ]
     },
     "execution_count": 24,
     "metadata": {},
     "output_type": "execute_result"
    }
   ],
   "source": [
    "np.zeros((3,3))"
   ]
  },
  {
   "cell_type": "code",
   "execution_count": 23,
   "id": "1b41acc7",
   "metadata": {},
   "outputs": [
    {
     "data": {
      "text/plain": [
       "array([[0., 0., 0.],\n",
       "       [0., 0., 0.],\n",
       "       [0., 0., 0.]])"
      ]
     },
     "execution_count": 23,
     "metadata": {},
     "output_type": "execute_result"
    }
   ],
   "source": [
    "np.empty((3,3))"
   ]
  },
  {
   "cell_type": "code",
   "execution_count": 3,
   "id": "175df7f3",
   "metadata": {},
   "outputs": [],
   "source": [
    "import numpy as np"
   ]
  },
  {
   "cell_type": "code",
   "execution_count": 5,
   "id": "03f8514b",
   "metadata": {},
   "outputs": [],
   "source": [
    "arr = np.random.randint(10,50, size =(4,4))"
   ]
  },
  {
   "cell_type": "code",
   "execution_count": 6,
   "id": "f60270e5",
   "metadata": {},
   "outputs": [
    {
     "data": {
      "text/plain": [
       "array([[11, 45, 31, 45],\n",
       "       [33, 49, 23, 36],\n",
       "       [44, 35, 48, 30],\n",
       "       [12, 19, 40, 28]])"
      ]
     },
     "execution_count": 6,
     "metadata": {},
     "output_type": "execute_result"
    }
   ],
   "source": [
    "arr"
   ]
  },
  {
   "cell_type": "code",
   "execution_count": 17,
   "id": "40f1f707",
   "metadata": {},
   "outputs": [
    {
     "name": "stdout",
     "output_type": "stream",
     "text": [
      "[11 45 31 45]\n",
      "[33 49 23 36]\n",
      "[44 35 48 30]\n"
     ]
    }
   ],
   "source": [
    "for i in range(len(arr)):\n",
    "    for j in range(len(arr[i])):\n",
    "        if(arr[i][j]>40):\n",
    "            print(arr[i])\n",
    "            break"
   ]
  },
  {
   "cell_type": "code",
   "execution_count": 18,
   "id": "d14d7176",
   "metadata": {},
   "outputs": [],
   "source": [
    "result = np.any(arr>40, axis =1)"
   ]
  },
  {
   "cell_type": "code",
   "execution_count": 20,
   "id": "2a1fd28f",
   "metadata": {},
   "outputs": [
    {
     "data": {
      "text/plain": [
       "array([[11, 45, 31, 45],\n",
       "       [33, 49, 23, 36],\n",
       "       [44, 35, 48, 30]])"
      ]
     },
     "execution_count": 20,
     "metadata": {},
     "output_type": "execute_result"
    }
   ],
   "source": [
    "arr[result]"
   ]
  },
  {
   "cell_type": "markdown",
   "id": "64d29688",
   "metadata": {},
   "source": [
    "# Numpy Basic Questions"
   ]
  },
  {
   "cell_type": "markdown",
   "id": "a4a66a60",
   "metadata": {},
   "source": [
    "**Write a Numpy program to get the Numpy version and show the Numpy build configuration.**"
   ]
  },
  {
   "cell_type": "code",
   "execution_count": 15,
   "id": "6f268370",
   "metadata": {},
   "outputs": [
    {
     "name": "stdout",
     "output_type": "stream",
     "text": [
      "1.25.0\n",
      "openblas64__info:\n",
      "    libraries = ['openblas64_', 'openblas64_']\n",
      "    library_dirs = ['openblas\\\\lib']\n",
      "    language = c\n",
      "    define_macros = [('HAVE_CBLAS', None), ('BLAS_SYMBOL_SUFFIX', '64_'), ('HAVE_BLAS_ILP64', None)]\n",
      "    runtime_library_dirs = ['openblas\\\\lib']\n",
      "blas_ilp64_opt_info:\n",
      "    libraries = ['openblas64_', 'openblas64_']\n",
      "    library_dirs = ['openblas\\\\lib']\n",
      "    language = c\n",
      "    define_macros = [('HAVE_CBLAS', None), ('BLAS_SYMBOL_SUFFIX', '64_'), ('HAVE_BLAS_ILP64', None)]\n",
      "    runtime_library_dirs = ['openblas\\\\lib']\n",
      "openblas64__lapack_info:\n",
      "    libraries = ['openblas64_', 'openblas64_']\n",
      "    library_dirs = ['openblas\\\\lib']\n",
      "    language = c\n",
      "    define_macros = [('HAVE_CBLAS', None), ('BLAS_SYMBOL_SUFFIX', '64_'), ('HAVE_BLAS_ILP64', None), ('HAVE_LAPACKE', None)]\n",
      "    runtime_library_dirs = ['openblas\\\\lib']\n",
      "lapack_ilp64_opt_info:\n",
      "    libraries = ['openblas64_', 'openblas64_']\n",
      "    library_dirs = ['openblas\\\\lib']\n",
      "    language = c\n",
      "    define_macros = [('HAVE_CBLAS', None), ('BLAS_SYMBOL_SUFFIX', '64_'), ('HAVE_BLAS_ILP64', None), ('HAVE_LAPACKE', None)]\n",
      "    runtime_library_dirs = ['openblas\\\\lib']\n",
      "Supported SIMD extensions in this NumPy install:\n",
      "    baseline = SSE,SSE2,SSE3\n",
      "    found = SSSE3,SSE41,POPCNT,SSE42,AVX,F16C,FMA3,AVX2,AVX512F,AVX512CD,AVX512_SKX,AVX512_CLX,AVX512_CNL,AVX512_ICL\n",
      "    not found = \n",
      "None\n"
     ]
    }
   ],
   "source": [
    "import numpy as np\n",
    "print(np.__version__)\n",
    "print(np.show_config())"
   ]
  },
  {
   "cell_type": "markdown",
   "id": "eda19eff",
   "metadata": {},
   "source": [
    "**2. Write a NumPy program to get help with the add function.**"
   ]
  },
  {
   "cell_type": "code",
   "execution_count": 16,
   "id": "c38a81d4",
   "metadata": {},
   "outputs": [
    {
     "name": "stdout",
     "output_type": "stream",
     "text": [
      "add(x1, x2, /, out=None, *, where=True, casting='same_kind', order='K', dtype=None, subok=True[, signature, extobj])\n",
      "\n",
      "Add arguments element-wise.\n",
      "\n",
      "Parameters\n",
      "----------\n",
      "x1, x2 : array_like\n",
      "    The arrays to be added.\n",
      "    If ``x1.shape != x2.shape``, they must be broadcastable to a common\n",
      "    shape (which becomes the shape of the output).\n",
      "out : ndarray, None, or tuple of ndarray and None, optional\n",
      "    A location into which the result is stored. If provided, it must have\n",
      "    a shape that the inputs broadcast to. If not provided or None,\n",
      "    a freshly-allocated array is returned. A tuple (possible only as a\n",
      "    keyword argument) must have length equal to the number of outputs.\n",
      "where : array_like, optional\n",
      "    This condition is broadcast over the input. At locations where the\n",
      "    condition is True, the `out` array will be set to the ufunc result.\n",
      "    Elsewhere, the `out` array will retain its original value.\n",
      "    Note that if an uninitialized `out` array is created via the default\n",
      "    ``out=None``, locations within it where the condition is False will\n",
      "    remain uninitialized.\n",
      "**kwargs\n",
      "    For other keyword-only arguments, see the\n",
      "    :ref:`ufunc docs <ufuncs.kwargs>`.\n",
      "\n",
      "Returns\n",
      "-------\n",
      "add : ndarray or scalar\n",
      "    The sum of `x1` and `x2`, element-wise.\n",
      "    This is a scalar if both `x1` and `x2` are scalars.\n",
      "\n",
      "Notes\n",
      "-----\n",
      "Equivalent to `x1` + `x2` in terms of array broadcasting.\n",
      "\n",
      "Examples\n",
      "--------\n",
      ">>> np.add(1.0, 4.0)\n",
      "5.0\n",
      ">>> x1 = np.arange(9.0).reshape((3, 3))\n",
      ">>> x2 = np.arange(3.0)\n",
      ">>> np.add(x1, x2)\n",
      "array([[  0.,   2.,   4.],\n",
      "       [  3.,   5.,   7.],\n",
      "       [  6.,   8.,  10.]])\n",
      "\n",
      "The ``+`` operator can be used as a shorthand for ``np.add`` on ndarrays.\n",
      "\n",
      ">>> x1 = np.arange(9.0).reshape((3, 3))\n",
      ">>> x2 = np.arange(3.0)\n",
      ">>> x1 + x2\n",
      "array([[ 0.,  2.,  4.],\n",
      "       [ 3.,  5.,  7.],\n",
      "       [ 6.,  8., 10.]])\n"
     ]
    }
   ],
   "source": [
    "np.info(np.add)"
   ]
  },
  {
   "cell_type": "markdown",
   "id": "2abe4977",
   "metadata": {},
   "source": [
    "**3. Write a NumPy program to test whether none of the elements of a given array are zero.**"
   ]
  },
  {
   "cell_type": "code",
   "execution_count": 17,
   "id": "280fd9ce",
   "metadata": {},
   "outputs": [
    {
     "data": {
      "text/plain": [
       "True"
      ]
     },
     "execution_count": 17,
     "metadata": {},
     "output_type": "execute_result"
    }
   ],
   "source": [
    "arr = np.array([1,2,3,4,5])\n",
    "np.all(arr) #print(np.all(x)): This line uses the np.all() function to test if all elements in the array 'x' are non-zero (i.e., not equal to zero). In this case, all elements are non-zero, so the function returns True."
   ]
  },
  {
   "cell_type": "code",
   "execution_count": 18,
   "id": "8b93dfb7",
   "metadata": {},
   "outputs": [
    {
     "data": {
      "text/plain": [
       "True"
      ]
     },
     "execution_count": 18,
     "metadata": {},
     "output_type": "execute_result"
    }
   ],
   "source": [
    "arr1 = np.array([[1,7,2,3,4],[1,2,3,4,5]])\n",
    "np.all(arr1)"
   ]
  },
  {
   "cell_type": "code",
   "execution_count": 20,
   "id": "bfa30c19",
   "metadata": {},
   "outputs": [
    {
     "name": "stdout",
     "output_type": "stream",
     "text": [
      "False\n",
      "True\n"
     ]
    }
   ],
   "source": [
    "arr1 = np.array([[1,7,0,3,4],[1,1,1,1,1]])\n",
    "print(np.all(arr1) ) # it takes by default 0 for the checking \n",
    "print(np.any(arr1))"
   ]
  },
  {
   "cell_type": "code",
   "execution_count": 21,
   "id": "27e2f1de",
   "metadata": {},
   "outputs": [
    {
     "data": {
      "text/plain": [
       "False"
      ]
     },
     "execution_count": 21,
     "metadata": {},
     "output_type": "execute_result"
    }
   ],
   "source": [
    "np.all(arr1) ==1"
   ]
  },
  {
   "cell_type": "code",
   "execution_count": 22,
   "id": "534cb938",
   "metadata": {},
   "outputs": [
    {
     "data": {
      "text/plain": [
       "True"
      ]
     },
     "execution_count": 22,
     "metadata": {},
     "output_type": "execute_result"
    }
   ],
   "source": [
    "np.any(arr1) ==1"
   ]
  },
  {
   "cell_type": "markdown",
   "id": "802df075",
   "metadata": {},
   "source": [
    "**4. Write a NumPy program to test if any of the elements of a given array are non-zero.**"
   ]
  },
  {
   "cell_type": "code",
   "execution_count": 23,
   "id": "1c3c5f6d",
   "metadata": {},
   "outputs": [
    {
     "data": {
      "text/plain": [
       "False"
      ]
     },
     "execution_count": 23,
     "metadata": {},
     "output_type": "execute_result"
    }
   ],
   "source": [
    "arr1 = np.array([[1,0,0,0,0],[0,0,0,0,0]])\n",
    "np.all(arr1) !=0"
   ]
  },
  {
   "cell_type": "code",
   "execution_count": 24,
   "id": "40951b8a",
   "metadata": {},
   "outputs": [
    {
     "data": {
      "text/plain": [
       "True"
      ]
     },
     "execution_count": 24,
     "metadata": {},
     "output_type": "execute_result"
    }
   ],
   "source": [
    "np.any(arr1) !=0"
   ]
  },
  {
   "cell_type": "markdown",
   "id": "c8bb9f7d",
   "metadata": {},
   "source": [
    "**5. How to create a boolean array?**"
   ]
  },
  {
   "cell_type": "code",
   "execution_count": 25,
   "id": "4302c8aa",
   "metadata": {},
   "outputs": [
    {
     "data": {
      "text/plain": [
       "array([[False, False],\n",
       "       [False, False],\n",
       "       [False, False],\n",
       "       [False, False],\n",
       "       [False, False]])"
      ]
     },
     "execution_count": 25,
     "metadata": {},
     "output_type": "execute_result"
    }
   ],
   "source": [
    "np.zeros(10,dtype = bool).reshape(5,2)"
   ]
  },
  {
   "cell_type": "code",
   "execution_count": 28,
   "id": "69927b7a",
   "metadata": {},
   "outputs": [
    {
     "ename": "TypeError",
     "evalue": "ones() got an unexpected keyword argument 'dtype5'",
     "output_type": "error",
     "traceback": [
      "\u001b[1;31m---------------------------------------------------------------------------\u001b[0m",
      "\u001b[1;31mTypeError\u001b[0m                                 Traceback (most recent call last)",
      "Cell \u001b[1;32mIn[28], line 1\u001b[0m\n\u001b[1;32m----> 1\u001b[0m np\u001b[38;5;241m.\u001b[39mones(\u001b[38;5;241m10\u001b[39m, dtype5 \u001b[38;5;241m=\u001b[39m \u001b[38;5;28mbool\u001b[39m)\u001b[38;5;241m.\u001b[39mreshape(\u001b[38;5;241m2\u001b[39m,\u001b[38;5;241m5\u001b[39m)\n",
      "\u001b[1;31mTypeError\u001b[0m: ones() got an unexpected keyword argument 'dtype5'"
     ]
    }
   ],
   "source": [
    "np.ones(10, dtype5 = bool).reshape(2,5)"
   ]
  },
  {
   "cell_type": "code",
   "execution_count": 26,
   "id": "d65b94e6",
   "metadata": {},
   "outputs": [
    {
     "ename": "TypeError",
     "evalue": "ones() got an unexpected keyword argument 'dtype5'",
     "output_type": "error",
     "traceback": [
      "\u001b[1;31m---------------------------------------------------------------------------\u001b[0m",
      "\u001b[1;31mTypeError\u001b[0m                                 Traceback (most recent call last)",
      "Cell \u001b[1;32mIn[26], line 1\u001b[0m\n\u001b[1;32m----> 1\u001b[0m np\u001b[38;5;241m.\u001b[39mones(\u001b[38;5;241m10\u001b[39m, dtype5 \u001b[38;5;241m=\u001b[39m \u001b[38;5;28mbool\u001b[39m)\u001b[38;5;241m.\u001b[39mreshape(\u001b[38;5;241m2\u001b[39m,\u001b[38;5;241m5\u001b[39m)\n",
      "\u001b[1;31mTypeError\u001b[0m: ones() got an unexpected keyword argument 'dtype5'"
     ]
    }
   ],
   "source": [
    "np.ones(10, dtype5 = bool).reshape(2,5)"
   ]
  },
  {
   "cell_type": "code",
   "execution_count": 29,
   "id": "52c4cbb4",
   "metadata": {},
   "outputs": [
    {
     "data": {
      "text/plain": [
       "array([[False, False],\n",
       "       [False, False],\n",
       "       [False, False],\n",
       "       [False, False],\n",
       "       [False, False]])"
      ]
     },
     "execution_count": 29,
     "metadata": {},
     "output_type": "execute_result"
    }
   ],
   "source": [
    "np.full((10), False, dtype = bool).reshape(5,2)"
   ]
  },
  {
   "cell_type": "markdown",
   "id": "71c898d5",
   "metadata": {},
   "source": [
    "**4. How to extract items that satisfy a given condition from 1D array?**"
   ]
  },
  {
   "cell_type": "code",
   "execution_count": 30,
   "id": "89be838e",
   "metadata": {},
   "outputs": [
    {
     "data": {
      "text/plain": [
       "array([1, 3, 5, 7, 9])"
      ]
     },
     "execution_count": 30,
     "metadata": {},
     "output_type": "execute_result"
    }
   ],
   "source": [
    "arr = np.array([1,2,3,4,5,6,7,8,9])\n",
    "odd = arr %2 !=0\n",
    "arr[odd]"
   ]
  },
  {
   "cell_type": "markdown",
   "id": "293d196e",
   "metadata": {},
   "source": [
    "**5. How to replace items that satisfy a condition with another value in numpy array?**"
   ]
  },
  {
   "cell_type": "code",
   "execution_count": 31,
   "id": "2f511363",
   "metadata": {},
   "outputs": [],
   "source": [
    "# Question: Replace all odd numbers in arr with -1\n",
    "# input: arr = np.array([0, 1, 2, 3, 4, 5, 6, 7, 8, 9])\n",
    "# output: array([ 0, -1,  2, -1,  4, -1,  6, -1,  8, -1])"
   ]
  },
  {
   "cell_type": "code",
   "execution_count": 32,
   "id": "c392ac8e",
   "metadata": {},
   "outputs": [
    {
     "data": {
      "text/plain": [
       "array([ 0, -1,  2, -1,  4, -1,  6, -1,  8, -1])"
      ]
     },
     "execution_count": 32,
     "metadata": {},
     "output_type": "execute_result"
    }
   ],
   "source": [
    "arr = np.array([0, 1, 2, 3, 4, 5, 6, 7, 8, 9])\n",
    "np.where( arr %2 !=0, -1, arr)"
   ]
  },
  {
   "cell_type": "markdown",
   "id": "2011594b",
   "metadata": {},
   "source": [
    "**6. How to replace items that satisfy a condition without affecting the original array?**"
   ]
  },
  {
   "cell_type": "code",
   "execution_count": 33,
   "id": "f4fcd3e7",
   "metadata": {},
   "outputs": [
    {
     "name": "stdout",
     "output_type": "stream",
     "text": [
      "Original array: \n",
      " [[1 2 3 4]\n",
      " [5 6 7 8]]\n"
     ]
    },
    {
     "data": {
      "text/plain": [
       "array([[-1,  2, -1,  4],\n",
       "       [-1,  6, -1,  8]])"
      ]
     },
     "execution_count": 33,
     "metadata": {},
     "output_type": "execute_result"
    }
   ],
   "source": [
    "arr = np.array([[1,2,3,4],[5,6,7,8]])\n",
    "arr1 =arr #or arr.copy()\n",
    "print(\"Original array: \\n\",arr)\n",
    "np.where(arr1 %2 !=0, -1, arr1)"
   ]
  },
  {
   "cell_type": "markdown",
   "id": "fe2f878f",
   "metadata": {},
   "source": [
    "**7. How to reshape an array?**"
   ]
  },
  {
   "cell_type": "code",
   "execution_count": 34,
   "id": "44387efb",
   "metadata": {},
   "outputs": [
    {
     "data": {
      "text/plain": [
       "array([[0, 1],\n",
       "       [2, 3],\n",
       "       [4, 5],\n",
       "       [6, 7],\n",
       "       [8, 9]])"
      ]
     },
     "execution_count": 34,
     "metadata": {},
     "output_type": "execute_result"
    }
   ],
   "source": [
    "arr = np.array([0, 1, 2, 3, 4, 5, 6, 7, 8, 9])\n",
    "arr.reshape(5,2)"
   ]
  },
  {
   "cell_type": "code",
   "execution_count": 35,
   "id": "9e0dc6e5",
   "metadata": {},
   "outputs": [
    {
     "data": {
      "text/plain": [
       "array([[0, 1, 2, 3, 4],\n",
       "       [5, 6, 7, 8, 9]])"
      ]
     },
     "execution_count": 35,
     "metadata": {},
     "output_type": "execute_result"
    }
   ],
   "source": [
    "arr.reshape(2,5)"
   ]
  },
  {
   "cell_type": "code",
   "execution_count": 36,
   "id": "d52e5875",
   "metadata": {},
   "outputs": [
    {
     "data": {
      "text/plain": [
       "array([[0, 1, 2, 3, 4],\n",
       "       [5, 6, 7, 8, 9]])"
      ]
     },
     "execution_count": 36,
     "metadata": {},
     "output_type": "execute_result"
    }
   ],
   "source": [
    "arr.reshape(2,-1)  # -1 represents the, it will tack  automatically how many colus are needed"
   ]
  },
  {
   "cell_type": "markdown",
   "id": "2c759178",
   "metadata": {},
   "source": [
    "**8. How to stack two arrays vertically?**"
   ]
  },
  {
   "cell_type": "code",
   "execution_count": 38,
   "id": "34f545a6",
   "metadata": {},
   "outputs": [
    {
     "name": "stdout",
     "output_type": "stream",
     "text": [
      "arr: \n",
      " [[26 31 33]\n",
      " [11 18 33]\n",
      " [36 13 33]\n",
      " [26 10 12]\n",
      " [16 13 15]]\n",
      "arr1: \n",
      " [[16 12 28]\n",
      " [30 22 24]\n",
      " [39 14 13]\n",
      " [17 21 39]]\n"
     ]
    }
   ],
   "source": [
    "arr = np.random.randint(10,40, size =(5,3))\n",
    "print(\"arr: \\n\",arr)\n",
    "arr1 = np.random.randint(10,40, size =(4,3))\n",
    "print(\"arr1: \\n\",arr1)"
   ]
  },
  {
   "cell_type": "code",
   "execution_count": 39,
   "id": "76571f28",
   "metadata": {},
   "outputs": [
    {
     "data": {
      "text/plain": [
       "array([[26, 31, 33],\n",
       "       [11, 18, 33],\n",
       "       [36, 13, 33],\n",
       "       [26, 10, 12],\n",
       "       [16, 13, 15],\n",
       "       [16, 12, 28],\n",
       "       [30, 22, 24],\n",
       "       [39, 14, 13],\n",
       "       [17, 21, 39]])"
      ]
     },
     "execution_count": 39,
     "metadata": {},
     "output_type": "execute_result"
    }
   ],
   "source": [
    "np.vstack((arr,arr1))"
   ]
  },
  {
   "cell_type": "code",
   "execution_count": 62,
   "id": "455a0d7f",
   "metadata": {},
   "outputs": [
    {
     "name": "stdout",
     "output_type": "stream",
     "text": [
      "[1 3 4]\n",
      "[ 8  6 10]\n"
     ]
    }
   ],
   "source": [
    "arr = np.array([3,8,2,6,10])\n",
    "res= np.where(arr>5)[0]\n",
    "print(res)\n",
    "print(arr[res])"
   ]
  },
  {
   "cell_type": "markdown",
   "id": "667b82b8",
   "metadata": {},
   "source": [
    "**8. How to stack two arrays horosontal?**"
   ]
  },
  {
   "cell_type": "code",
   "execution_count": 63,
   "id": "3a27ed7b",
   "metadata": {},
   "outputs": [
    {
     "name": "stdout",
     "output_type": "stream",
     "text": [
      "arr: \n",
      " [[20 11 27]\n",
      " [32 31 16]\n",
      " [30 19 20]\n",
      " [14 34 17]\n",
      " [35 33 39]]\n",
      "arr1: \n",
      " [[16 13]\n",
      " [28 37]\n",
      " [24 28]\n",
      " [30 20]\n",
      " [35 36]]\n"
     ]
    }
   ],
   "source": [
    "arr = np.random.randint(10,40, size =(5,3))\n",
    "print(\"arr: \\n\",arr)\n",
    "arr1 = np.random.randint(10,40, size =(5,2))\n",
    "print(\"arr1: \\n\",arr1)"
   ]
  },
  {
   "cell_type": "code",
   "execution_count": 64,
   "id": "742ca39c",
   "metadata": {},
   "outputs": [
    {
     "data": {
      "text/plain": [
       "array([[20, 11, 27, 16, 13],\n",
       "       [32, 31, 16, 28, 37],\n",
       "       [30, 19, 20, 24, 28],\n",
       "       [14, 34, 17, 30, 20],\n",
       "       [35, 33, 39, 35, 36]])"
      ]
     },
     "execution_count": 64,
     "metadata": {},
     "output_type": "execute_result"
    }
   ],
   "source": [
    "np.hstack((arr,arr1))"
   ]
  },
  {
   "cell_type": "markdown",
   "id": "4aa25fee",
   "metadata": {},
   "source": [
    "**10. How to generate custom sequences in numpy without hardcoding?**"
   ]
  },
  {
   "cell_type": "code",
   "execution_count": 42,
   "id": "17ea9282",
   "metadata": {},
   "outputs": [],
   "source": [
    "# Input: a = np.array([1,2,3])\n",
    "# Output: array([1, 1, 1, 2, 2, 2, 3, 3, 3, 1, 2, 3, 1, 2, 3, 1, 2, 3])"
   ]
  },
  {
   "cell_type": "code",
   "execution_count": 43,
   "id": "5f9f8ba0",
   "metadata": {},
   "outputs": [
    {
     "data": {
      "text/plain": [
       "array([1, 1, 1, 2, 2, 2, 3, 3, 3])"
      ]
     },
     "execution_count": 43,
     "metadata": {},
     "output_type": "execute_result"
    }
   ],
   "source": [
    "arr = np.array([1,2,3])\n",
    "np.repeat(arr,3)"
   ]
  },
  {
   "cell_type": "code",
   "execution_count": 44,
   "id": "914d5f0c",
   "metadata": {},
   "outputs": [
    {
     "data": {
      "text/plain": [
       "array([1, 2, 3, 1, 2, 3, 1, 2, 3])"
      ]
     },
     "execution_count": 44,
     "metadata": {},
     "output_type": "execute_result"
    }
   ],
   "source": [
    "np.tile(arr,3)"
   ]
  },
  {
   "cell_type": "code",
   "execution_count": 45,
   "id": "fb620607",
   "metadata": {},
   "outputs": [
    {
     "data": {
      "text/plain": [
       "array([1, 1, 1, 2, 2, 2, 3, 3, 3, 1, 2, 3, 1, 2, 3, 1, 2, 3])"
      ]
     },
     "execution_count": 45,
     "metadata": {},
     "output_type": "execute_result"
    }
   ],
   "source": [
    "np.hstack((np.repeat(arr,3),np.tile(arr,3)))"
   ]
  },
  {
   "cell_type": "code",
   "execution_count": 46,
   "id": "33cddc1f",
   "metadata": {},
   "outputs": [
    {
     "data": {
      "text/plain": [
       "array([1, 1, 1, 2, 2, 2, 3, 3, 3, 1, 2, 3, 1, 2, 3, 1, 2, 3])"
      ]
     },
     "execution_count": 46,
     "metadata": {},
     "output_type": "execute_result"
    }
   ],
   "source": [
    "np.r_[(np.repeat(arr,3),np.tile(arr,3))]  #np.r_[] is represent he to concatenate the arrays row wise"
   ]
  },
  {
   "cell_type": "code",
   "execution_count": 47,
   "id": "1cae591a",
   "metadata": {},
   "outputs": [
    {
     "data": {
      "text/plain": [
       "array([[1, 1, 1, 2, 2, 2, 3, 3, 3],\n",
       "       [1, 2, 3, 1, 2, 3, 1, 2, 3]])"
      ]
     },
     "execution_count": 47,
     "metadata": {},
     "output_type": "execute_result"
    }
   ],
   "source": [
    "np.vstack((np.repeat(arr,3),np.tile(arr,3)))"
   ]
  },
  {
   "cell_type": "code",
   "execution_count": 48,
   "id": "dcbdc9c0",
   "metadata": {},
   "outputs": [
    {
     "data": {
      "text/plain": [
       "array([[1, 1],\n",
       "       [1, 2],\n",
       "       [1, 3],\n",
       "       [2, 1],\n",
       "       [2, 2],\n",
       "       [2, 3],\n",
       "       [3, 1],\n",
       "       [3, 2],\n",
       "       [3, 3]])"
      ]
     },
     "execution_count": 48,
     "metadata": {},
     "output_type": "execute_result"
    }
   ],
   "source": [
    "np.c_[(np.repeat(arr,3),np.tile(arr,3))]  #colum wise"
   ]
  },
  {
   "cell_type": "markdown",
   "id": "9c8c54ed",
   "metadata": {},
   "source": [
    "**11. How to get the common items between two python numpy arrays?**"
   ]
  },
  {
   "cell_type": "raw",
   "id": "b23a16c0",
   "metadata": {},
   "source": [
    "Input: a = np.array([1,2,3,2,3,4,3,4,5,6])\n",
    "       b = np.array([7,2,10,2,7,4,9,4,9,8])\n",
    "\n",
    "# Output: array([2, 4])"
   ]
  },
  {
   "cell_type": "code",
   "execution_count": 49,
   "id": "79767cde",
   "metadata": {},
   "outputs": [
    {
     "data": {
      "text/plain": [
       "array([2, 4])"
      ]
     },
     "execution_count": 49,
     "metadata": {},
     "output_type": "execute_result"
    }
   ],
   "source": [
    "a = np.array([1,2,3,2,3,4,3,4,5,6])\n",
    "b = np.array([7,2,10,2,7,4,9,4,9,8])\n",
    "np.intersect1d(a,b)"
   ]
  },
  {
   "cell_type": "markdown",
   "id": "a40b7a6e",
   "metadata": {},
   "source": [
    "**12. How to remove from one array those items that exist in another?**"
   ]
  },
  {
   "cell_type": "raw",
   "id": "5081352e",
   "metadata": {},
   "source": [
    "Input: a = np.array([1,2,3,4,5])\n",
    "       b = np.array([5,6,7,8,9])\n",
    "\n",
    "# Output: array([1,2,3,4])"
   ]
  },
  {
   "cell_type": "code",
   "execution_count": 51,
   "id": "6b311985",
   "metadata": {},
   "outputs": [],
   "source": [
    "import numpy as np\n",
    "x = np.array([1,2,3,4,5])\n",
    "y = np.array([5,6,7,8,9])\n",
    "coman_values,index_x,index_y = np.intersect1d(x, y, return_indices=True)"
   ]
  },
  {
   "cell_type": "code",
   "execution_count": 52,
   "id": "2b48bd5d",
   "metadata": {},
   "outputs": [
    {
     "data": {
      "text/plain": [
       "array([5])"
      ]
     },
     "execution_count": 52,
     "metadata": {},
     "output_type": "execute_result"
    }
   ],
   "source": [
    "#if we want to get the comman elements.\n",
    "coman_values"
   ]
  },
  {
   "cell_type": "code",
   "execution_count": 53,
   "id": "9c783502",
   "metadata": {},
   "outputs": [
    {
     "name": "stdout",
     "output_type": "stream",
     "text": [
      "array__x: [4]\n",
      "array__y [0]\n"
     ]
    }
   ],
   "source": [
    "#if we want to get index of the common value from the array.\n",
    "print(\"array__x:\",index_x)\n",
    "print(\"array__y\",index_y)"
   ]
  },
  {
   "cell_type": "code",
   "execution_count": 54,
   "id": "ff9ac9e2",
   "metadata": {},
   "outputs": [
    {
     "data": {
      "text/plain": [
       "array([1, 2, 3, 4])"
      ]
     },
     "execution_count": 54,
     "metadata": {},
     "output_type": "execute_result"
    }
   ],
   "source": [
    "np.delete(x,index_x)"
   ]
  },
  {
   "cell_type": "code",
   "execution_count": 55,
   "id": "dfecaec9",
   "metadata": {},
   "outputs": [
    {
     "data": {
      "text/plain": [
       "array([6, 7, 8, 9])"
      ]
     },
     "execution_count": 55,
     "metadata": {},
     "output_type": "execute_result"
    }
   ],
   "source": [
    "np.delete(y,index_y)"
   ]
  },
  {
   "cell_type": "code",
   "execution_count": 56,
   "id": "831b001f",
   "metadata": {},
   "outputs": [
    {
     "data": {
      "text/plain": [
       "array([1, 2, 3, 4])"
      ]
     },
     "execution_count": 56,
     "metadata": {},
     "output_type": "execute_result"
    }
   ],
   "source": [
    "# we can also delete the common elements using set routes\n",
    "np.setdiff1d(x,y)"
   ]
  },
  {
   "cell_type": "code",
   "execution_count": 57,
   "id": "397f9f71",
   "metadata": {},
   "outputs": [
    {
     "data": {
      "text/plain": [
       "array([6, 7, 8, 9])"
      ]
     },
     "execution_count": 57,
     "metadata": {},
     "output_type": "execute_result"
    }
   ],
   "source": [
    "np.setdiff1d(y,x)"
   ]
  },
  {
   "cell_type": "markdown",
   "id": "46870696",
   "metadata": {},
   "source": [
    "**13. How to get the positions where elements of two arrays match?**"
   ]
  },
  {
   "cell_type": "raw",
   "id": "b454f6a2",
   "metadata": {},
   "source": [
    "a = np.array([1,2,3,2,3,4,3,4,5,6])\n",
    "\n",
    "b = np.array([7,2,10,2,7,4,9,4,9,8])\n",
    "\n",
    "Output: (array([1, 3, 5, 7]),)"
   ]
  },
  {
   "cell_type": "code",
   "execution_count": 58,
   "id": "7f5688c4",
   "metadata": {},
   "outputs": [
    {
     "data": {
      "text/plain": [
       "(array([1, 3, 5, 7], dtype=int64),)"
      ]
     },
     "execution_count": 58,
     "metadata": {},
     "output_type": "execute_result"
    }
   ],
   "source": [
    "a = np.array([1,2,3,2,3,4,3,4,5,6])\n",
    "b = np.array([7,2,10,2,7,4,9,4,9,8])\n",
    "np.where(a == b)"
   ]
  },
  {
   "cell_type": "markdown",
   "id": "91eaeed6",
   "metadata": {},
   "source": [
    "**14. How to extract all numbers between a given range from a numpy array?**"
   ]
  },
  {
   "cell_type": "raw",
   "id": "eb165648",
   "metadata": {},
   "source": [
    "Get all items between 5 and 10 from a.\n",
    "\n",
    "Input: a = np.array([2, 6, 1, 9, 10, 3, 27])\n",
    "    \n",
    "Output: (array([6, 9, 10])"
   ]
  },
  {
   "cell_type": "code",
   "execution_count": 59,
   "id": "c83fff3f",
   "metadata": {},
   "outputs": [
    {
     "data": {
      "text/plain": [
       "array([ 6,  9, 10])"
      ]
     },
     "execution_count": 59,
     "metadata": {},
     "output_type": "execute_result"
    }
   ],
   "source": [
    "a = np.array([2, 6, 1, 9, 10, 3, 27])\n",
    "indx = np.where((a>=5) & (a<=10))\n",
    "a[indx]"
   ]
  },
  {
   "cell_type": "code",
   "execution_count": 60,
   "id": "42815149",
   "metadata": {},
   "outputs": [
    {
     "data": {
      "text/plain": [
       "array([ 6,  9, 10])"
      ]
     },
     "execution_count": 60,
     "metadata": {},
     "output_type": "execute_result"
    }
   ],
   "source": [
    "a[np.where((a>=5) & (a<=10))]"
   ]
  },
  {
   "cell_type": "code",
   "execution_count": 61,
   "id": "71ee9b33",
   "metadata": {},
   "outputs": [
    {
     "data": {
      "text/plain": [
       "array([6, 7, 9, 8, 9, 7, 5])"
      ]
     },
     "execution_count": 61,
     "metadata": {},
     "output_type": "execute_result"
    }
   ],
   "source": [
    "a = np.array([5, 7, 9, 8, 6, 4, 5])\n",
    "b = np.array([6, 3, 4, 8, 9, 7, 1])\n",
    "np.where(a>b, a,b)"
   ]
  },
  {
   "cell_type": "markdown",
   "id": "dd3a8901",
   "metadata": {},
   "source": [
    "**16. How to swap two columns in a 2d numpy array?**"
   ]
  },
  {
   "cell_type": "code",
   "execution_count": 62,
   "id": "85853655",
   "metadata": {},
   "outputs": [
    {
     "name": "stdout",
     "output_type": "stream",
     "text": [
      "Original array:\n",
      " [[0 1 2]\n",
      " [3 4 5]\n",
      " [6 7 8]]\n"
     ]
    }
   ],
   "source": [
    "arr = np.arange(9).reshape(3,3)\n",
    "print(\"Original array:\\n\", arr)"
   ]
  },
  {
   "cell_type": "code",
   "execution_count": 63,
   "id": "602c7dfa",
   "metadata": {},
   "outputs": [
    {
     "data": {
      "text/plain": [
       "array([[1, 2, 0],\n",
       "       [4, 5, 3],\n",
       "       [7, 8, 6]])"
      ]
     },
     "execution_count": 63,
     "metadata": {},
     "output_type": "execute_result"
    }
   ],
   "source": [
    "#column wise\n",
    "arr[:,[1,2,0]]"
   ]
  },
  {
   "cell_type": "code",
   "execution_count": 64,
   "id": "58ea1376",
   "metadata": {},
   "outputs": [
    {
     "data": {
      "text/plain": [
       "array([[3, 4, 5],\n",
       "       [0, 1, 2],\n",
       "       [6, 7, 8]])"
      ]
     },
     "execution_count": 64,
     "metadata": {},
     "output_type": "execute_result"
    }
   ],
   "source": [
    "#row wise\n",
    "arr[[1,0,2],:]"
   ]
  },
  {
   "cell_type": "markdown",
   "id": "9ee1b416",
   "metadata": {},
   "source": [
    "**18. How to reverse the rows of a 2D array?**"
   ]
  },
  {
   "cell_type": "code",
   "execution_count": 65,
   "id": "7c667ef4",
   "metadata": {},
   "outputs": [
    {
     "name": "stdout",
     "output_type": "stream",
     "text": [
      "Original arra: \n",
      " [[0 1 2]\n",
      " [3 4 5]\n",
      " [6 7 8]]\n"
     ]
    },
    {
     "data": {
      "text/plain": [
       "array([[6, 7, 8],\n",
       "       [3, 4, 5],\n",
       "       [0, 1, 2]])"
      ]
     },
     "execution_count": 65,
     "metadata": {},
     "output_type": "execute_result"
    }
   ],
   "source": [
    "arr = np.arange(9).reshape(3,3)\n",
    "print(\"Original arra: \\n\", arr)\n",
    "arr[2::-1,:]"
   ]
  },
  {
   "cell_type": "code",
   "execution_count": 66,
   "id": "4117b795",
   "metadata": {},
   "outputs": [
    {
     "data": {
      "text/plain": [
       "array([[2, 1, 0],\n",
       "       [5, 4, 3],\n",
       "       [8, 7, 6]])"
      ]
     },
     "execution_count": 66,
     "metadata": {},
     "output_type": "execute_result"
    }
   ],
   "source": [
    "arr[:,2::-1]"
   ]
  },
  {
   "cell_type": "markdown",
   "id": "f97353a8",
   "metadata": {},
   "source": [
    "**20. How to create a 2D array containing random floats between 5 and 10?**"
   ]
  },
  {
   "cell_type": "code",
   "execution_count": 68,
   "id": "2cd2aa74",
   "metadata": {},
   "outputs": [
    {
     "data": {
      "text/plain": [
       "array([[5.53271325, 9.20744984, 8.98686306],\n",
       "       [9.55538953, 8.04608234, 5.39271765],\n",
       "       [7.04150911, 7.3367421 , 7.02275346],\n",
       "       [7.21501426, 9.21152936, 7.30128375],\n",
       "       [7.1055894 , 7.85179056, 8.13057508]])"
      ]
     },
     "execution_count": 68,
     "metadata": {},
     "output_type": "execute_result"
    }
   ],
   "source": [
    "arr = np.random.uniform(5,10,size=(5,3))\n",
    "arr"
   ]
  },
  {
   "cell_type": "markdown",
   "id": "23da2e83",
   "metadata": {},
   "source": [
    "**21. How to print only 3 decimal places in python numpy array?**"
   ]
  },
  {
   "cell_type": "code",
   "execution_count": 1,
   "id": "aafdb101",
   "metadata": {},
   "outputs": [
    {
     "data": {
      "text/plain": [
       "array([0, 1, 2, ..., 6, 7, 8])"
      ]
     },
     "execution_count": 1,
     "metadata": {},
     "output_type": "execute_result"
    }
   ],
   "source": [
    "import numpy as np\n",
    "arr = np.arange(9)\n",
    "np.set_printoptions(threshold=6)\n",
    "arr"
   ]
  },
  {
   "cell_type": "markdown",
   "id": "152a35dd",
   "metadata": {},
   "source": [
    "**23.How to print the full numpy array without truncating**"
   ]
  },
  {
   "cell_type": "code",
   "execution_count": 2,
   "id": "cd01e7df",
   "metadata": {},
   "outputs": [
    {
     "data": {
      "text/plain": [
       "array([0, 1, 2, 3, 4, 5, 6, 7, 8])"
      ]
     },
     "execution_count": 2,
     "metadata": {},
     "output_type": "execute_result"
    }
   ],
   "source": [
    "np.set_printoptions(threshold=9)\n",
    "arr"
   ]
  },
  {
   "cell_type": "markdown",
   "id": "b41e8ac1",
   "metadata": {},
   "source": [
    "**24. How to convert an array of arrays into a flat 1d array?**"
   ]
  },
  {
   "cell_type": "code",
   "execution_count": 3,
   "id": "a155334f",
   "metadata": {},
   "outputs": [
    {
     "data": {
      "text/plain": [
       "array([0, 1, 2])"
      ]
     },
     "execution_count": 3,
     "metadata": {},
     "output_type": "execute_result"
    }
   ],
   "source": [
    "arr = np.arange(3)\n",
    "arr1 = np.arange(3,7)\n",
    "arr2 = np.arange(3,9)\n",
    "arr"
   ]
  },
  {
   "cell_type": "code",
   "execution_count": 4,
   "id": "5068d771",
   "metadata": {},
   "outputs": [
    {
     "data": {
      "text/plain": [
       "array([3, 4, 5, 6])"
      ]
     },
     "execution_count": 4,
     "metadata": {},
     "output_type": "execute_result"
    }
   ],
   "source": [
    "arr1"
   ]
  },
  {
   "cell_type": "code",
   "execution_count": 5,
   "id": "7a3e6719",
   "metadata": {},
   "outputs": [
    {
     "data": {
      "text/plain": [
       "array([0, 1, 2, ..., 6, 7, 8])"
      ]
     },
     "execution_count": 5,
     "metadata": {},
     "output_type": "execute_result"
    }
   ],
   "source": [
    "a = np.concatenate([arr,arr1,arr2])\n",
    "a"
   ]
  },
  {
   "cell_type": "code",
   "execution_count": 6,
   "id": "452d41a9",
   "metadata": {},
   "outputs": [
    {
     "data": {
      "text/plain": [
       "array([0, 1, 2, 3, 4, 5, 6, 3, 4, 5, 6, 7, 8])"
      ]
     },
     "execution_count": 6,
     "metadata": {},
     "output_type": "execute_result"
    }
   ],
   "source": [
    "np.set_printoptions(threshold= 13)\n",
    "a"
   ]
  },
  {
   "cell_type": "code",
   "execution_count": 90,
   "id": "0f574b1b",
   "metadata": {},
   "outputs": [
    {
     "name": "stdout",
     "output_type": "stream",
     "text": [
      "[3 4 6]\n"
     ]
    }
   ],
   "source": [
    "arr = np.array([2,5,1,6,10,4,8])\n",
    "res = np.where(arr>5)[0]\n",
    "print(res)"
   ]
  },
  {
   "cell_type": "code",
   "execution_count": 94,
   "id": "f6e2c109",
   "metadata": {},
   "outputs": [
    {
     "name": "stdout",
     "output_type": "stream",
     "text": [
      "[6 8 9]\n"
     ]
    }
   ],
   "source": [
    "arr = np.array([[1,2,3],[4,5,6],[8,9,4]])\n",
    "res = np.where(arr>=6)\n",
    "print(arr[res])"
   ]
  },
  {
   "cell_type": "code",
   "execution_count": 95,
   "id": "ead9eecc",
   "metadata": {},
   "outputs": [
    {
     "data": {
      "text/plain": [
       "array([[1, 2, 3],\n",
       "       [4, 5, 6],\n",
       "       [8, 9, 4]])"
      ]
     },
     "execution_count": 95,
     "metadata": {},
     "output_type": "execute_result"
    }
   ],
   "source": [
    "arr"
   ]
  },
  {
   "cell_type": "code",
   "execution_count": 96,
   "id": "01d49e40",
   "metadata": {},
   "outputs": [
    {
     "name": "stdout",
     "output_type": "stream",
     "text": [
      "(array([1, 2, 2], dtype=int64), array([2, 0, 1], dtype=int64))\n"
     ]
    }
   ],
   "source": [
    "print(res)"
   ]
  },
  {
   "cell_type": "code",
   "execution_count": null,
   "id": "5c83293f",
   "metadata": {},
   "outputs": [],
   "source": []
  }
 ],
 "metadata": {
  "kernelspec": {
   "display_name": "Python 3 (ipykernel)",
   "language": "python",
   "name": "python3"
  },
  "language_info": {
   "codemirror_mode": {
    "name": "ipython",
    "version": 3
   },
   "file_extension": ".py",
   "mimetype": "text/x-python",
   "name": "python",
   "nbconvert_exporter": "python",
   "pygments_lexer": "ipython3",
   "version": "3.10.9"
  }
 },
 "nbformat": 4,
 "nbformat_minor": 5
}
